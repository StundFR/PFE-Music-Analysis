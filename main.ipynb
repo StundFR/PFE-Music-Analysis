{
 "cells": [
  {
   "cell_type": "markdown",
   "metadata": {},
   "source": [
    "# Loading local data"
   ]
  },
  {
   "cell_type": "code",
   "execution_count": 167,
   "metadata": {},
   "outputs": [],
   "source": [
    "from os import listdir\n",
    "import pandas as pd"
   ]
  },
  {
   "cell_type": "code",
   "execution_count": 168,
   "metadata": {},
   "outputs": [],
   "source": [
    "files = listdir(\"../chart\")\n",
    "\n",
    "dfs_chart = {}\n",
    "for f in files:\n",
    "    year = f.split(\"_\")[0]\n",
    "    month = f.split(\"_\")[1].split(\".\")[0]\n",
    "\n",
    "    if dfs_chart.get(year) is None:\n",
    "        dfs_chart[year] = {}\n",
    "        \n",
    "    dfs_chart[year][month] = pd.read_csv(\"../chart/\" + f)"
   ]
  },
  {
   "cell_type": "code",
   "execution_count": 169,
   "metadata": {},
   "outputs": [
    {
     "data": {
      "text/html": [
       "<div>\n",
       "<style scoped>\n",
       "    .dataframe tbody tr th:only-of-type {\n",
       "        vertical-align: middle;\n",
       "    }\n",
       "\n",
       "    .dataframe tbody tr th {\n",
       "        vertical-align: top;\n",
       "    }\n",
       "\n",
       "    .dataframe thead th {\n",
       "        text-align: right;\n",
       "    }\n",
       "</style>\n",
       "<table border=\"1\" class=\"dataframe\">\n",
       "  <thead>\n",
       "    <tr style=\"text-align: right;\">\n",
       "      <th></th>\n",
       "      <th>Rank</th>\n",
       "      <th>Artist</th>\n",
       "      <th>Music</th>\n",
       "      <th>Naissance</th>\n",
       "      <th>Pays d'origine</th>\n",
       "      <th>Origine</th>\n",
       "      <th>Nationalité</th>\n",
       "      <th>Pays</th>\n",
       "    </tr>\n",
       "  </thead>\n",
       "  <tbody>\n",
       "    <tr>\n",
       "      <th>0</th>\n",
       "      <td>1</td>\n",
       "      <td>Juanes</td>\n",
       "      <td>La Camisa Negra</td>\n",
       "      <td>9 août 1972 (50 ans)Medellin,  Colombie</td>\n",
       "      <td></td>\n",
       "      <td></td>\n",
       "      <td></td>\n",
       "      <td></td>\n",
       "    </tr>\n",
       "    <tr>\n",
       "      <th>1</th>\n",
       "      <td>2</td>\n",
       "      <td>Madonna</td>\n",
       "      <td>Hung Up</td>\n",
       "      <td>16 août 1958 (64 ans)Bay City, Michigan (États...</td>\n",
       "      <td></td>\n",
       "      <td></td>\n",
       "      <td>Américaine</td>\n",
       "      <td></td>\n",
       "    </tr>\n",
       "    <tr>\n",
       "      <th>2</th>\n",
       "      <td>3</td>\n",
       "      <td>Johnny Hallyday</td>\n",
       "      <td>Mon Plus Beau Noël</td>\n",
       "      <td>15 juin 1943 Paris 9e (France)</td>\n",
       "      <td></td>\n",
       "      <td></td>\n",
       "      <td>Française</td>\n",
       "      <td></td>\n",
       "    </tr>\n",
       "    <tr>\n",
       "      <th>3</th>\n",
       "      <td>4</td>\n",
       "      <td>Tina Arena</td>\n",
       "      <td>Aimer Jusqu'à L'impossible</td>\n",
       "      <td></td>\n",
       "      <td></td>\n",
       "      <td></td>\n",
       "      <td>français</td>\n",
       "      <td></td>\n",
       "    </tr>\n",
       "    <tr>\n",
       "      <th>4</th>\n",
       "      <td>5</td>\n",
       "      <td>Star Academy</td>\n",
       "      <td>Santiano</td>\n",
       "      <td></td>\n",
       "      <td></td>\n",
       "      <td></td>\n",
       "      <td></td>\n",
       "      <td>France</td>\n",
       "    </tr>\n",
       "    <tr>\n",
       "      <th>...</th>\n",
       "      <td>...</td>\n",
       "      <td>...</td>\n",
       "      <td>...</td>\n",
       "      <td>...</td>\n",
       "      <td>...</td>\n",
       "      <td>...</td>\n",
       "      <td>...</td>\n",
       "      <td>...</td>\n",
       "    </tr>\n",
       "    <tr>\n",
       "      <th>95</th>\n",
       "      <td>96</td>\n",
       "      <td>Jenifer</td>\n",
       "      <td>Serre-moi</td>\n",
       "      <td></td>\n",
       "      <td></td>\n",
       "      <td></td>\n",
       "      <td>français</td>\n",
       "      <td></td>\n",
       "    </tr>\n",
       "    <tr>\n",
       "      <th>96</th>\n",
       "      <td>97</td>\n",
       "      <td>Lucie Bernardoni</td>\n",
       "      <td>Petit Rat, Petit Loup</td>\n",
       "      <td></td>\n",
       "      <td></td>\n",
       "      <td></td>\n",
       "      <td>français</td>\n",
       "      <td></td>\n",
       "    </tr>\n",
       "    <tr>\n",
       "      <th>97</th>\n",
       "      <td>98</td>\n",
       "      <td>Ilona Mitrecey</td>\n",
       "      <td>C'est Les Vacances</td>\n",
       "      <td>1er septembre 1993 (29 ans)Fontenay-aux-Roses ...</td>\n",
       "      <td></td>\n",
       "      <td></td>\n",
       "      <td></td>\n",
       "      <td></td>\n",
       "    </tr>\n",
       "    <tr>\n",
       "      <th>98</th>\n",
       "      <td>99</td>\n",
       "      <td>Kanye West</td>\n",
       "      <td>Gold Digger</td>\n",
       "      <td>24 octobre 1986 (36 ans)Toronto (Ontario, Canada)</td>\n",
       "      <td></td>\n",
       "      <td></td>\n",
       "      <td></td>\n",
       "      <td></td>\n",
       "    </tr>\n",
       "    <tr>\n",
       "      <th>99</th>\n",
       "      <td>100</td>\n",
       "      <td>Global Deejays</td>\n",
       "      <td>The Sound Of San Francisco</td>\n",
       "      <td></td>\n",
       "      <td>Autriche</td>\n",
       "      <td></td>\n",
       "      <td></td>\n",
       "      <td>Autriche</td>\n",
       "    </tr>\n",
       "  </tbody>\n",
       "</table>\n",
       "<p>100 rows × 8 columns</p>\n",
       "</div>"
      ],
      "text/plain": [
       "    Rank            Artist                       Music  \\\n",
       "0      1            Juanes             La Camisa Negra   \n",
       "1      2           Madonna                     Hung Up   \n",
       "2      3   Johnny Hallyday          Mon Plus Beau Noël   \n",
       "3      4        Tina Arena  Aimer Jusqu'à L'impossible   \n",
       "4      5      Star Academy                    Santiano   \n",
       "..   ...               ...                         ...   \n",
       "95    96           Jenifer                   Serre-moi   \n",
       "96    97  Lucie Bernardoni       Petit Rat, Petit Loup   \n",
       "97    98    Ilona Mitrecey          C'est Les Vacances   \n",
       "98    99        Kanye West                 Gold Digger   \n",
       "99   100    Global Deejays  The Sound Of San Francisco   \n",
       "\n",
       "                                            Naissance Pays d'origine Origine  \\\n",
       "0             9 août 1972 (50 ans)Medellin,  Colombie                          \n",
       "1   16 août 1958 (64 ans)Bay City, Michigan (États...                          \n",
       "2                      15 juin 1943 Paris 9e (France)                          \n",
       "3                                                                              \n",
       "4                                                                              \n",
       "..                                                ...            ...     ...   \n",
       "95                                                                             \n",
       "96                                                                             \n",
       "97  1er septembre 1993 (29 ans)Fontenay-aux-Roses ...                          \n",
       "98  24 octobre 1986 (36 ans)Toronto (Ontario, Canada)                          \n",
       "99                                                          Autriche           \n",
       "\n",
       "   Nationalité      Pays  \n",
       "0                         \n",
       "1   Américaine            \n",
       "2    Française            \n",
       "3     français            \n",
       "4                 France  \n",
       "..         ...       ...  \n",
       "95    français            \n",
       "96    français            \n",
       "97                        \n",
       "98                        \n",
       "99              Autriche  \n",
       "\n",
       "[100 rows x 8 columns]"
      ]
     },
     "execution_count": 169,
     "metadata": {},
     "output_type": "execute_result"
    }
   ],
   "source": [
    "dfs_chart[\"2006\"][\"Janvier\"]"
   ]
  },
  {
   "cell_type": "markdown",
   "metadata": {},
   "source": [
    "# Supression des dernières columns"
   ]
  },
  {
   "cell_type": "code",
   "execution_count": 170,
   "metadata": {},
   "outputs": [],
   "source": [
    "for k1 in dfs_chart.keys():\n",
    "    for k2 in dfs_chart[k1].keys():\n",
    "        dfs_chart[k1][k2].drop(columns=[\"Naissance\", \"Pays d'origine\", \"Origine\", \"Pays\", \"Nationalité\"], inplace=True)"
   ]
  },
  {
   "cell_type": "code",
   "execution_count": 171,
   "metadata": {},
   "outputs": [
    {
     "data": {
      "text/html": [
       "<div>\n",
       "<style scoped>\n",
       "    .dataframe tbody tr th:only-of-type {\n",
       "        vertical-align: middle;\n",
       "    }\n",
       "\n",
       "    .dataframe tbody tr th {\n",
       "        vertical-align: top;\n",
       "    }\n",
       "\n",
       "    .dataframe thead th {\n",
       "        text-align: right;\n",
       "    }\n",
       "</style>\n",
       "<table border=\"1\" class=\"dataframe\">\n",
       "  <thead>\n",
       "    <tr style=\"text-align: right;\">\n",
       "      <th></th>\n",
       "      <th>Rank</th>\n",
       "      <th>Artist</th>\n",
       "      <th>Music</th>\n",
       "    </tr>\n",
       "  </thead>\n",
       "  <tbody>\n",
       "    <tr>\n",
       "      <th>0</th>\n",
       "      <td>1</td>\n",
       "      <td>Juanes</td>\n",
       "      <td>La Camisa Negra</td>\n",
       "    </tr>\n",
       "    <tr>\n",
       "      <th>1</th>\n",
       "      <td>2</td>\n",
       "      <td>Madonna</td>\n",
       "      <td>Hung Up</td>\n",
       "    </tr>\n",
       "    <tr>\n",
       "      <th>2</th>\n",
       "      <td>3</td>\n",
       "      <td>Johnny Hallyday</td>\n",
       "      <td>Mon Plus Beau Noël</td>\n",
       "    </tr>\n",
       "    <tr>\n",
       "      <th>3</th>\n",
       "      <td>4</td>\n",
       "      <td>Tina Arena</td>\n",
       "      <td>Aimer Jusqu'à L'impossible</td>\n",
       "    </tr>\n",
       "    <tr>\n",
       "      <th>4</th>\n",
       "      <td>5</td>\n",
       "      <td>Star Academy</td>\n",
       "      <td>Santiano</td>\n",
       "    </tr>\n",
       "    <tr>\n",
       "      <th>...</th>\n",
       "      <td>...</td>\n",
       "      <td>...</td>\n",
       "      <td>...</td>\n",
       "    </tr>\n",
       "    <tr>\n",
       "      <th>95</th>\n",
       "      <td>96</td>\n",
       "      <td>Jenifer</td>\n",
       "      <td>Serre-moi</td>\n",
       "    </tr>\n",
       "    <tr>\n",
       "      <th>96</th>\n",
       "      <td>97</td>\n",
       "      <td>Lucie Bernardoni</td>\n",
       "      <td>Petit Rat, Petit Loup</td>\n",
       "    </tr>\n",
       "    <tr>\n",
       "      <th>97</th>\n",
       "      <td>98</td>\n",
       "      <td>Ilona Mitrecey</td>\n",
       "      <td>C'est Les Vacances</td>\n",
       "    </tr>\n",
       "    <tr>\n",
       "      <th>98</th>\n",
       "      <td>99</td>\n",
       "      <td>Kanye West</td>\n",
       "      <td>Gold Digger</td>\n",
       "    </tr>\n",
       "    <tr>\n",
       "      <th>99</th>\n",
       "      <td>100</td>\n",
       "      <td>Global Deejays</td>\n",
       "      <td>The Sound Of San Francisco</td>\n",
       "    </tr>\n",
       "  </tbody>\n",
       "</table>\n",
       "<p>100 rows × 3 columns</p>\n",
       "</div>"
      ],
      "text/plain": [
       "    Rank            Artist                       Music\n",
       "0      1            Juanes             La Camisa Negra\n",
       "1      2           Madonna                     Hung Up\n",
       "2      3   Johnny Hallyday          Mon Plus Beau Noël\n",
       "3      4        Tina Arena  Aimer Jusqu'à L'impossible\n",
       "4      5      Star Academy                    Santiano\n",
       "..   ...               ...                         ...\n",
       "95    96           Jenifer                   Serre-moi\n",
       "96    97  Lucie Bernardoni       Petit Rat, Petit Loup\n",
       "97    98    Ilona Mitrecey          C'est Les Vacances\n",
       "98    99        Kanye West                 Gold Digger\n",
       "99   100    Global Deejays  The Sound Of San Francisco\n",
       "\n",
       "[100 rows x 3 columns]"
      ]
     },
     "execution_count": 171,
     "metadata": {},
     "output_type": "execute_result"
    }
   ],
   "source": [
    "dfs_chart[\"2006\"][\"Janvier\"]"
   ]
  },
  {
   "cell_type": "markdown",
   "metadata": {},
   "source": [
    "# Scrapping chart"
   ]
  },
  {
   "cell_type": "code",
   "execution_count": 33,
   "metadata": {},
   "outputs": [],
   "source": [
    "from bs4 import BeautifulSoup\n",
    "from requests import get\n",
    "import pandas as pd\n",
    "import numpy as np\n",
    "from tqdm import tqdm"
   ]
  },
  {
   "cell_type": "code",
   "execution_count": 34,
   "metadata": {},
   "outputs": [],
   "source": [
    "years = np.arange(2004, 2023, 1)\n",
    "weeks = [int(v) for v in np.linspace(1, 52, 12)]\n",
    "mois = [\"Janvier\", \"Fevrier\", \"Mars\", \"Avril\", \"Mai\", \"Juin\", \"Juillet\", \"Aout\", \"Septembre\", \"Octobre\", \"Novembre\", \"Decembre\"]"
   ]
  },
  {
   "cell_type": "code",
   "execution_count": 35,
   "metadata": {},
   "outputs": [
    {
     "name": "stderr",
     "output_type": "stream",
     "text": [
      "100%|██████████| 19/19 [02:48<00:00,  8.87s/it]\n"
     ]
    }
   ],
   "source": [
    "dfs_chart = {y : {} for y in years}\n",
    "for y in tqdm(years):\n",
    "    for k, w in enumerate(weeks):\n",
    "        url = f\"https://acharts.co/france_singles_top_100/{y}/{w}\"\n",
    "        rq = get(url)\n",
    "        m = mois[k]\n",
    "        if rq.ok:\n",
    "            soup = BeautifulSoup(rq.text)\n",
    "\n",
    "            chart = soup.find(\"table\", {\"id\" : \"ChartTable\"})\n",
    "            trs = chart.findAll(\"tr\")[1:]\n",
    "\n",
    "            data = []\n",
    "            for tr in trs:\n",
    "                music_name = tr.find(\"span\", {\"itemprop\" : \"name\"}).text\n",
    "                rank = tr.find(\"span\", {\"itemprop\" : \"position\"}).text\n",
    "                artist_name = tr.find(\"span\", {\"itemprop\" : \"byArtist\"}).text[2:-1]\n",
    "                data.append([rank, artist_name, music_name])\n",
    "\n",
    "            df = pd.DataFrame(data, columns=[\"Rank\", \"Artist\", \"Music\"])\n",
    "            dfs_chart[y][m] = df"
   ]
  },
  {
   "cell_type": "code",
   "execution_count": 99,
   "metadata": {},
   "outputs": [],
   "source": [
    "names = [\n",
    "    (\"Djadja\", \"Djadja et Dinaz\"),\n",
    "    (\"Lorie\", \"Lorie Pester\"),\n",
    "    (\"-M-\", \"Matthieu Chedid\"),\n",
    "    (\"Priscilla\", \"Priscilla Betti\"),\n",
    "    (\"I Am\", \"IAM\"),\n",
    "    (\"Sofiane\", \"Sofiane Zermani\"),\n",
    "    (\"Justice\", \"Justice (groupe\"),\n",
    "    (\"Soma Riba\", \"Collectif Métissé\"),\n",
    "    (\"Fresh\", \"Fresh la Peufra\"),\n",
    "    (\"Rosalia\", \"Rosalía\"),\n",
    "    (\"Italo Brothers\", \"ItaloBrothers\"),\n",
    "    (\"Far*east Movement\", \"Far East Movement\"),\n",
    "    (\"Odyssey\", \"Odyssey (groupe)\"),\n",
    "    (\"1789\", \"1789 : Les Amants de la Bastille\"),\n",
    "    (\"Clemence\", \"Clémence Saint-Preux\"),\n",
    "    (\"C\\x9cUr De Pirate\", \"Cœur de pirate\"),\n",
    "    (\"Rose\", \"Rose (chanteuse)\"),\n",
    "    (\"Laeti\", \"Laetitia Kerfa\"),\n",
    "    (\"La Troupe\", \"Mozart, l'opéra rock\"),\n",
    "    (\"Victoria\", \"Victoria Sio\")\n",
    "    \n",
    "]\n",
    "\n",
    "for k1 in dfs_chart.keys():\n",
    "    for k2 in dfs_chart[k1].keys():\n",
    "        for n1, n2 in names:\n",
    "            dfs_chart[k1][k2].replace(n1, n2, inplace=True)"
   ]
  },
  {
   "cell_type": "markdown",
   "metadata": {},
   "source": [
    "# Scrapping birth"
   ]
  },
  {
   "cell_type": "code",
   "execution_count": 155,
   "metadata": {},
   "outputs": [],
   "source": [
    "import wikipedia\n",
    "from nltk.metrics.distance import edit_distance"
   ]
  },
  {
   "cell_type": "code",
   "execution_count": 156,
   "metadata": {},
   "outputs": [],
   "source": [
    "MISSING = \" \""
   ]
  },
  {
   "cell_type": "code",
   "execution_count": 157,
   "metadata": {},
   "outputs": [],
   "source": [
    "def find_title_in_wikipedia(title):\n",
    "    words = [\"(chanteur)\", \"(chanteuse)\", \"(groupe)\", \"(rappeur)\", \"(rappeuse)\", \"(musicien)\", \"(chanteur français)\", \"(france)\", \"(producteur)\", \"(artiste)\", \"(groupe de musique)\"]\n",
    "\n",
    "    wikipedia.set_lang(\"fr\")\n",
    "    results = wikipedia.search(title, results=10)\n",
    "    distance = []\n",
    "    if len(results) > 0:\n",
    "        for element in results:\n",
    "            if any(w in element.lower() for w in words):\n",
    "                return element\n",
    "\n",
    "            distance.append(edit_distance(title, element))\n",
    "\n",
    "        return results[np.argmin(distance)]\n",
    "\n",
    "    return MISSING"
   ]
  },
  {
   "cell_type": "code",
   "execution_count": 158,
   "metadata": {},
   "outputs": [],
   "source": [
    "def list_to_string(l):\n",
    "    return \" \".join(l)"
   ]
  },
  {
   "cell_type": "code",
   "execution_count": 195,
   "metadata": {},
   "outputs": [],
   "source": [
    "def wiki_birth(title):\n",
    "    cols = [\"Naissance\", \"Pays d'origine\", \"Origine\", \"Nationalité\", \"Pays\"]\n",
    "    nats = [\"franco\", \"français\", \"belge\", \"canadien\", \"libanais\", \"réunionnais\"]\n",
    "    dic = {w : MISSING for w in cols}\n",
    "\n",
    "    if title == MISSING:\n",
    "        return dic\n",
    "\n",
    "    url = f\"https://fr.wikipedia.org/wiki/{title}\"\n",
    "    rq = get(url)\n",
    "\n",
    "    if not rq.ok:\n",
    "        return dic\n",
    "    \n",
    "    soup = BeautifulSoup(rq.text)\n",
    "    tables = soup.findAll(\"table\")\n",
    "\n",
    "    for table in tables:\n",
    "        trs = table.findAll(\"tr\")\n",
    "\n",
    "        for tr in trs:\n",
    "            th = tr.find(\"th\")\n",
    "\n",
    "            if th is not None:\n",
    "                for w in cols:\n",
    "                    if w in th.text:\n",
    "                        td = tr.find(\"td\")\n",
    "                        if td is not None:\n",
    "                            dic[w] = td.text.strip()\n",
    "\n",
    "    if not all(x == \" \" for x in dic.values()):\n",
    "        return dic\n",
    "    else:\n",
    "        wikipedia.set_lang(\"fr\")\n",
    "        try:\n",
    "            summary = wikipedia.summary(title, sentences=1)\n",
    "            for w in nats:\n",
    "                if w in summary:\n",
    "                    dic[\"Nationalité\"] = w\n",
    "                    return dic\n",
    "        except:\n",
    "            pass\n",
    "\n",
    "    return dic"
   ]
  },
  {
   "cell_type": "code",
   "execution_count": 160,
   "metadata": {},
   "outputs": [],
   "source": [
    "artist = []\n",
    "for k1 in dfs_chart.keys():\n",
    "    for k2 in dfs_chart[k1].keys():\n",
    "        artist += dfs_chart[k1][k2][\"Artist\"].tolist()\n",
    "    \n",
    "artist = pd.DataFrame(list(set(artist)), columns=[\"Artist\"])"
   ]
  },
  {
   "cell_type": "code",
   "execution_count": 161,
   "metadata": {},
   "outputs": [],
   "source": [
    "artist[\"Artist_wiki\"] = artist[\"Artist\"].apply(find_title_in_wikipedia)"
   ]
  },
  {
   "cell_type": "code",
   "execution_count": 162,
   "metadata": {},
   "outputs": [
    {
     "name": "stderr",
     "output_type": "stream",
     "text": [
      "c:\\Users\\quent\\AppData\\Local\\Programs\\Python\\Python310\\lib\\site-packages\\wikipedia\\wikipedia.py:389: GuessedAtParserWarning: No parser was explicitly specified, so I'm using the best available HTML parser for this system (\"html.parser\"). This usually isn't a problem, but if you run this code on another system, or in a different virtual environment, it may use a different parser and behave differently.\n",
      "\n",
      "The code that caused this warning is on line 389 of the file c:\\Users\\quent\\AppData\\Local\\Programs\\Python\\Python310\\lib\\site-packages\\wikipedia\\wikipedia.py. To get rid of this warning, pass the additional argument 'features=\"html.parser\"' to the BeautifulSoup constructor.\n",
      "\n",
      "  lis = BeautifulSoup(html).find_all('li')\n"
     ]
    }
   ],
   "source": [
    "birth_dic = artist[\"Artist_wiki\"].apply(wiki_birth)"
   ]
  },
  {
   "cell_type": "code",
   "execution_count": 163,
   "metadata": {},
   "outputs": [],
   "source": [
    "dfs_birth = []\n",
    "for dic in birth_dic:\n",
    "    dfs_birth.append(pd.DataFrame(dic, index=[0]))\n",
    "birth = pd.concat(dfs_birth, ignore_index=True)"
   ]
  },
  {
   "cell_type": "code",
   "execution_count": 164,
   "metadata": {},
   "outputs": [],
   "source": [
    "artist = artist.merge(birth, left_index=True, right_index=True)"
   ]
  },
  {
   "cell_type": "code",
   "execution_count": 165,
   "metadata": {},
   "outputs": [],
   "source": [
    "artist.drop(columns=[\"Artist_wiki\"], inplace=True)\n",
    "artist = artist.set_index(\"Artist\")"
   ]
  },
  {
   "cell_type": "code",
   "execution_count": 172,
   "metadata": {},
   "outputs": [],
   "source": [
    "for k1 in dfs_chart.keys():\n",
    "    for k2 in dfs_chart[k1].keys():\n",
    "        dfs_chart[k1][k2] = dfs_chart[k1][k2].join(artist, on=\"Artist\", how=\"left\")"
   ]
  },
  {
   "cell_type": "markdown",
   "metadata": {},
   "source": [
    "# CLEANNING"
   ]
  },
  {
   "cell_type": "code",
   "execution_count": 352,
   "metadata": {},
   "outputs": [],
   "source": [
    "cols = artist.columns.tolist()\n",
    "cols.remove(\"Naissance\")\n",
    "\n",
    "for col in cols:\n",
    "    artist[col] = artist[col].apply(lambda x : x if len(x) < 20 else MISSING)"
   ]
  },
  {
   "cell_type": "markdown",
   "metadata": {},
   "source": [
    "## Nationalité"
   ]
  },
  {
   "cell_type": "code",
   "execution_count": 304,
   "metadata": {},
   "outputs": [],
   "source": [
    "def nationality_cleaning(df_nat):\n",
    "    replace_words = [\n",
    "        (\"français\", \"française\"),\n",
    "        (\"franco\", \"française\"),\n",
    "        (\"canadien\", \"canadienne\"),\n",
    "        (\"américain\", \"américaine\"),\n",
    "        (\"états-unis\", \"américaine\"),\n",
    "        (\"britannique  norvègien\", \"britannique\"),\n",
    "        (\"algérien\", \"algérienne\"),\n",
    "        (\"brésil\", \"brésilienne\"),\n",
    "        (\"france\", \"française\"),\n",
    "        (\"marocain\", \"marocaine\"),\n",
    "        (\"anglais\", \"britannique\"),\n",
    "        (\"royaume-unis\", \"britannique\"),\n",
    "        (\"britannique\", \"britannique\"),\n",
    "        (\"espagn\", \"espagnole\"),\n",
    "        (\"italie\", \"italienne\"),\n",
    "        (\"japon\", \"japonaise\"),\n",
    "        (\"corée\", \"coréenne\"),\n",
    "        (\"israél\", \"israélienne\")\n",
    "    ]\n",
    "\n",
    "    new_df = df_nat.copy()\n",
    "    new_df = new_df.str.lower()\n",
    "    for w1, w2 in replace_words:\n",
    "        new_df[new_df.str.contains(w1)] = w2\n",
    "\n",
    "    new_df = new_df.str.split(\",\").str[0]\n",
    "    new_df = new_df.str.split(\" \").str[0]\n",
    "    \n",
    "    return new_df"
   ]
  },
  {
   "cell_type": "code",
   "execution_count": 306,
   "metadata": {},
   "outputs": [],
   "source": [
    "artist[\"Nationalité\"] = nationality_cleaning(artist[\"Nationalité\"])"
   ]
  },
  {
   "cell_type": "code",
   "execution_count": 354,
   "metadata": {},
   "outputs": [],
   "source": [
    "def pays_cleaning(df_pays):\n",
    "    replace_words = [\n",
    "        (\"france\", \"france\"),\n",
    "        (\"états-unis\", \"états-unis\"),\n",
    "        (\"royaume-uni\", \"royaume-unis\"),\n",
    "        (\"allemagne\", \"allemagne\"),\n",
    "        (\"angleterre\", \"angleterre\"),\n",
    "        (\"canada\", \"canada\"),\n",
    "        (\"australie\", \"australie\"),\n",
    "        (\"pays-bas\", \"pays-bas\"),\n",
    "        (\"ghana\", \"ghana\")\n",
    "    ]\n",
    "\n",
    "    new_df = df_pays.copy()\n",
    "    new_df = new_df.str.lower()\n",
    "    for w1, w2 in replace_words:\n",
    "        new_df[new_df.str.contains(w1)] = w2\n",
    "    \n",
    "    return new_df"
   ]
  },
  {
   "cell_type": "code",
   "execution_count": 356,
   "metadata": {},
   "outputs": [],
   "source": [
    "artist[\"Pays\"] = pays_cleaning(artist[\"Pays\"])"
   ]
  },
  {
   "cell_type": "markdown",
   "metadata": {},
   "source": [
    "# Export"
   ]
  },
  {
   "cell_type": "code",
   "execution_count": 182,
   "metadata": {},
   "outputs": [],
   "source": [
    "for k1 in dfs_chart.keys():\n",
    "    for k2 in dfs_chart[k1].keys():\n",
    "        dfs_chart[k1][k2].to_csv(f\"../chart/{k1}_{k2}.csv\", encoding=\"utf-8-sig\", index = False)"
   ]
  },
  {
   "cell_type": "code",
   "execution_count": 308,
   "metadata": {},
   "outputs": [],
   "source": [
    "artist.to_csv(\"../artist.csv\", encoding=\"utf-8-sig\")"
   ]
  },
  {
   "cell_type": "code",
   "execution_count": 340,
   "metadata": {},
   "outputs": [
    {
     "data": {
      "text/plain": [
       "'Serbe'"
      ]
     },
     "execution_count": 340,
     "metadata": {},
     "output_type": "execute_result"
    }
   ],
   "source": [
    "find_title_in_wikipedia(\"Sve\")"
   ]
  }
 ],
 "metadata": {
  "kernelspec": {
   "display_name": "Python 3.10.4 64-bit",
   "language": "python",
   "name": "python3"
  },
  "language_info": {
   "codemirror_mode": {
    "name": "ipython",
    "version": 3
   },
   "file_extension": ".py",
   "mimetype": "text/x-python",
   "name": "python",
   "nbconvert_exporter": "python",
   "pygments_lexer": "ipython3",
   "version": "3.10.4"
  },
  "orig_nbformat": 4,
  "vscode": {
   "interpreter": {
    "hash": "2823d83d0138f4e88bebb1ac6893599dadbc35aa0bdabe1fb606adea8faab8b6"
   }
  }
 },
 "nbformat": 4,
 "nbformat_minor": 2
}
