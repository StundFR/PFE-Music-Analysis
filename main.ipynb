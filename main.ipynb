{
 "cells": [
  {
   "cell_type": "code",
   "execution_count": 1,
   "metadata": {},
   "outputs": [],
   "source": [
    "from os import listdir\n",
    "import pandas as pd\n",
    "from bs4 import BeautifulSoup\n",
    "from requests import get\n",
    "import numpy as np\n",
    "from tqdm import tqdm\n",
    "import wikipedia\n",
    "from nltk.metrics.distance import edit_distance"
   ]
  },
  {
   "cell_type": "code",
   "execution_count": 2,
   "metadata": {},
   "outputs": [],
   "source": [
    "MISSING = \"\""
   ]
  },
  {
   "cell_type": "markdown",
   "metadata": {},
   "source": [
    "# Loading local data"
   ]
  },
  {
   "cell_type": "code",
   "execution_count": 192,
   "metadata": {},
   "outputs": [],
   "source": [
    "#Récupére les données sur le PC pour éviter de scrapper à chaque fois\n",
    "files = listdir(\"../chart\")\n",
    "\n",
    "dfs_chart = {}\n",
    "for f in files:\n",
    "    year = f.split(\"_\")[0]\n",
    "    month = f.split(\"_\")[1].split(\".\")[0]\n",
    "\n",
    "    if dfs_chart.get(year) is None:\n",
    "        dfs_chart[year] = {}\n",
    "        \n",
    "    dfs_chart[year][month] = pd.read_csv(\"../chart/\" + f)"
   ]
  },
  {
   "cell_type": "code",
   "execution_count": 193,
   "metadata": {},
   "outputs": [
    {
     "data": {
      "text/html": [
       "<div>\n",
       "<style scoped>\n",
       "    .dataframe tbody tr th:only-of-type {\n",
       "        vertical-align: middle;\n",
       "    }\n",
       "\n",
       "    .dataframe tbody tr th {\n",
       "        vertical-align: top;\n",
       "    }\n",
       "\n",
       "    .dataframe thead th {\n",
       "        text-align: right;\n",
       "    }\n",
       "</style>\n",
       "<table border=\"1\" class=\"dataframe\">\n",
       "  <thead>\n",
       "    <tr style=\"text-align: right;\">\n",
       "      <th></th>\n",
       "      <th>Rank</th>\n",
       "      <th>Artist</th>\n",
       "      <th>Music</th>\n",
       "      <th>Artist_wiki</th>\n",
       "      <th>Naissance</th>\n",
       "      <th>Pays d'origine</th>\n",
       "      <th>Origine</th>\n",
       "      <th>Nationalité</th>\n",
       "      <th>Pays</th>\n",
       "      <th>Summary</th>\n",
       "    </tr>\n",
       "  </thead>\n",
       "  <tbody>\n",
       "    <tr>\n",
       "      <th>0</th>\n",
       "      <td>1</td>\n",
       "      <td>Juanes</td>\n",
       "      <td>La Camisa Negra</td>\n",
       "      <td>Juanes</td>\n",
       "      <td>9 août 1972 (50 ans)Medellin,  Colombie</td>\n",
       "      <td>NaN</td>\n",
       "      <td>NaN</td>\n",
       "      <td>NaN</td>\n",
       "      <td>NaN</td>\n",
       "      <td>Juan Esteban Aristizábal Vásquez, alias Juanes...</td>\n",
       "    </tr>\n",
       "    <tr>\n",
       "      <th>1</th>\n",
       "      <td>2</td>\n",
       "      <td>Madonna</td>\n",
       "      <td>Hung Up</td>\n",
       "      <td>Madonna</td>\n",
       "      <td>16 août 1958 (64 ans)Bay City, Michigan (États...</td>\n",
       "      <td>NaN</td>\n",
       "      <td>NaN</td>\n",
       "      <td>Américaine</td>\n",
       "      <td>NaN</td>\n",
       "      <td>Madonna Louise Ciccone, dite Madonna, née le 1...</td>\n",
       "    </tr>\n",
       "    <tr>\n",
       "      <th>2</th>\n",
       "      <td>3</td>\n",
       "      <td>Johnny Hallyday</td>\n",
       "      <td>Mon Plus Beau Noël</td>\n",
       "      <td>Johnny Hallyday</td>\n",
       "      <td>15 juin 1943 Paris 9e (France)</td>\n",
       "      <td>NaN</td>\n",
       "      <td>NaN</td>\n",
       "      <td>Française</td>\n",
       "      <td>NaN</td>\n",
       "      <td>Jean-Philippe Smet, dit Johnny Hallyday, né le...</td>\n",
       "    </tr>\n",
       "  </tbody>\n",
       "</table>\n",
       "</div>"
      ],
      "text/plain": [
       "   Rank           Artist               Music      Artist_wiki  \\\n",
       "0     1           Juanes     La Camisa Negra           Juanes   \n",
       "1     2          Madonna             Hung Up          Madonna   \n",
       "2     3  Johnny Hallyday  Mon Plus Beau Noël  Johnny Hallyday   \n",
       "\n",
       "                                           Naissance Pays d'origine Origine  \\\n",
       "0            9 août 1972 (50 ans)Medellin,  Colombie            NaN     NaN   \n",
       "1  16 août 1958 (64 ans)Bay City, Michigan (États...            NaN     NaN   \n",
       "2                     15 juin 1943 Paris 9e (France)            NaN     NaN   \n",
       "\n",
       "  Nationalité Pays                                            Summary  \n",
       "0         NaN  NaN  Juan Esteban Aristizábal Vásquez, alias Juanes...  \n",
       "1  Américaine  NaN  Madonna Louise Ciccone, dite Madonna, née le 1...  \n",
       "2   Française  NaN  Jean-Philippe Smet, dit Johnny Hallyday, né le...  "
      ]
     },
     "execution_count": 193,
     "metadata": {},
     "output_type": "execute_result"
    }
   ],
   "source": [
    "dfs_chart[\"2006\"][\"Janvier\"].head(3)"
   ]
  },
  {
   "cell_type": "code",
   "execution_count": 135,
   "metadata": {},
   "outputs": [],
   "source": [
    "artist = pd.read_csv(\"../artist.csv\")"
   ]
  },
  {
   "cell_type": "code",
   "execution_count": 136,
   "metadata": {},
   "outputs": [
    {
     "data": {
      "text/html": [
       "<div>\n",
       "<style scoped>\n",
       "    .dataframe tbody tr th:only-of-type {\n",
       "        vertical-align: middle;\n",
       "    }\n",
       "\n",
       "    .dataframe tbody tr th {\n",
       "        vertical-align: top;\n",
       "    }\n",
       "\n",
       "    .dataframe thead th {\n",
       "        text-align: right;\n",
       "    }\n",
       "</style>\n",
       "<table border=\"1\" class=\"dataframe\">\n",
       "  <thead>\n",
       "    <tr style=\"text-align: right;\">\n",
       "      <th></th>\n",
       "      <th>Artist</th>\n",
       "      <th>Artist_wiki</th>\n",
       "      <th>Naissance</th>\n",
       "      <th>Pays d'origine</th>\n",
       "      <th>Origine</th>\n",
       "      <th>Nationalité</th>\n",
       "      <th>Pays</th>\n",
       "      <th>Summary</th>\n",
       "    </tr>\n",
       "  </thead>\n",
       "  <tbody>\n",
       "    <tr>\n",
       "      <th>0</th>\n",
       "      <td>LP</td>\n",
       "      <td>LP</td>\n",
       "      <td>NaN</td>\n",
       "      <td>NaN</td>\n",
       "      <td>NaN</td>\n",
       "      <td>NaN</td>\n",
       "      <td>NaN</td>\n",
       "      <td>NaN</td>\n",
       "    </tr>\n",
       "    <tr>\n",
       "      <th>1</th>\n",
       "      <td>Les Enfants Du Pays</td>\n",
       "      <td>Les Enfants du pays</td>\n",
       "      <td>NaN</td>\n",
       "      <td>NaN</td>\n",
       "      <td>NaN</td>\n",
       "      <td>française</td>\n",
       "      <td>france</td>\n",
       "      <td>Les Enfants du pays est un film français de Pi...</td>\n",
       "    </tr>\n",
       "    <tr>\n",
       "      <th>2</th>\n",
       "      <td>Lynda</td>\n",
       "      <td>Lynda</td>\n",
       "      <td>NaN</td>\n",
       "      <td>NaN</td>\n",
       "      <td>NaN</td>\n",
       "      <td>NaN</td>\n",
       "      <td>NaN</td>\n",
       "      <td>Lynda Carter, née le 24 juillet 1951 à Phoenix...</td>\n",
       "    </tr>\n",
       "    <tr>\n",
       "      <th>3</th>\n",
       "      <td>Iv My People</td>\n",
       "      <td>IV My People</td>\n",
       "      <td>NaN</td>\n",
       "      <td>france</td>\n",
       "      <td>NaN</td>\n",
       "      <td>française</td>\n",
       "      <td>france</td>\n",
       "      <td>IV My People est un label discographique et co...</td>\n",
       "    </tr>\n",
       "    <tr>\n",
       "      <th>4</th>\n",
       "      <td>Mickael Turtle</td>\n",
       "      <td>NaN</td>\n",
       "      <td>NaN</td>\n",
       "      <td>NaN</td>\n",
       "      <td>NaN</td>\n",
       "      <td>NaN</td>\n",
       "      <td>NaN</td>\n",
       "      <td>NaN</td>\n",
       "    </tr>\n",
       "    <tr>\n",
       "      <th>...</th>\n",
       "      <td>...</td>\n",
       "      <td>...</td>\n",
       "      <td>...</td>\n",
       "      <td>...</td>\n",
       "      <td>...</td>\n",
       "      <td>...</td>\n",
       "      <td>...</td>\n",
       "      <td>...</td>\n",
       "    </tr>\n",
       "    <tr>\n",
       "      <th>2267</th>\n",
       "      <td>Andy Williams</td>\n",
       "      <td>Andy Williams (chanteur)</td>\n",
       "      <td>3 décembre 1927Wall Lake, (Iowa, États-Unis)</td>\n",
       "      <td>NaN</td>\n",
       "      <td>NaN</td>\n",
       "      <td>NaN</td>\n",
       "      <td>NaN</td>\n",
       "      <td>Howard Andrew Williams, né le 3 décembre 1927,...</td>\n",
       "    </tr>\n",
       "    <tr>\n",
       "      <th>2268</th>\n",
       "      <td>Duffy</td>\n",
       "      <td>Duffy (chanteuse)</td>\n",
       "      <td>23 juin 1984 (38 ans) Bangor, pays de Galles</td>\n",
       "      <td>NaN</td>\n",
       "      <td>NaN</td>\n",
       "      <td>NaN</td>\n",
       "      <td>NaN</td>\n",
       "      <td>Aimée Ann Duffy, alias Duffy, est une chanteus...</td>\n",
       "    </tr>\n",
       "    <tr>\n",
       "      <th>2269</th>\n",
       "      <td>Martial</td>\n",
       "      <td>Martial</td>\n",
       "      <td>NaN</td>\n",
       "      <td>NaN</td>\n",
       "      <td>NaN</td>\n",
       "      <td>NaN</td>\n",
       "      <td>NaN</td>\n",
       "      <td>NaN</td>\n",
       "    </tr>\n",
       "    <tr>\n",
       "      <th>2270</th>\n",
       "      <td>Lacrim</td>\n",
       "      <td>Lacrim</td>\n",
       "      <td>19 avril 1985 (37 ans)Paris (20e),  France</td>\n",
       "      <td>NaN</td>\n",
       "      <td>NaN</td>\n",
       "      <td>française</td>\n",
       "      <td>NaN</td>\n",
       "      <td>Lacrim, de son vrai nom Karim Zenoud, est un r...</td>\n",
       "    </tr>\n",
       "    <tr>\n",
       "      <th>2271</th>\n",
       "      <td>Swedish House Mafia</td>\n",
       "      <td>Swedish House Mafia</td>\n",
       "      <td>NaN</td>\n",
       "      <td>NaN</td>\n",
       "      <td>NaN</td>\n",
       "      <td>NaN</td>\n",
       "      <td>NaN</td>\n",
       "      <td>Swedish House Mafia (abrégé S.H.M.) est un gro...</td>\n",
       "    </tr>\n",
       "  </tbody>\n",
       "</table>\n",
       "<p>2272 rows × 8 columns</p>\n",
       "</div>"
      ],
      "text/plain": [
       "                   Artist               Artist_wiki  \\\n",
       "0                      LP                        LP   \n",
       "1     Les Enfants Du Pays       Les Enfants du pays   \n",
       "2                   Lynda                     Lynda   \n",
       "3            Iv My People              IV My People   \n",
       "4          Mickael Turtle                       NaN   \n",
       "...                   ...                       ...   \n",
       "2267        Andy Williams  Andy Williams (chanteur)   \n",
       "2268                Duffy         Duffy (chanteuse)   \n",
       "2269              Martial                   Martial   \n",
       "2270               Lacrim                    Lacrim   \n",
       "2271  Swedish House Mafia       Swedish House Mafia   \n",
       "\n",
       "                                         Naissance Pays d'origine Origine  \\\n",
       "0                                              NaN            NaN     NaN   \n",
       "1                                              NaN            NaN     NaN   \n",
       "2                                              NaN            NaN     NaN   \n",
       "3                                              NaN         france     NaN   \n",
       "4                                              NaN            NaN     NaN   \n",
       "...                                            ...            ...     ...   \n",
       "2267  3 décembre 1927Wall Lake, (Iowa, États-Unis)            NaN     NaN   \n",
       "2268  23 juin 1984 (38 ans) Bangor, pays de Galles            NaN     NaN   \n",
       "2269                                           NaN            NaN     NaN   \n",
       "2270    19 avril 1985 (37 ans)Paris (20e),  France            NaN     NaN   \n",
       "2271                                           NaN            NaN     NaN   \n",
       "\n",
       "     Nationalité    Pays                                            Summary  \n",
       "0            NaN     NaN                                                NaN  \n",
       "1      française  france  Les Enfants du pays est un film français de Pi...  \n",
       "2            NaN     NaN  Lynda Carter, née le 24 juillet 1951 à Phoenix...  \n",
       "3      française  france  IV My People est un label discographique et co...  \n",
       "4            NaN     NaN                                                NaN  \n",
       "...          ...     ...                                                ...  \n",
       "2267         NaN     NaN  Howard Andrew Williams, né le 3 décembre 1927,...  \n",
       "2268         NaN     NaN  Aimée Ann Duffy, alias Duffy, est une chanteus...  \n",
       "2269         NaN     NaN                                                NaN  \n",
       "2270   française     NaN  Lacrim, de son vrai nom Karim Zenoud, est un r...  \n",
       "2271         NaN     NaN  Swedish House Mafia (abrégé S.H.M.) est un gro...  \n",
       "\n",
       "[2272 rows x 8 columns]"
      ]
     },
     "execution_count": 136,
     "metadata": {},
     "output_type": "execute_result"
    }
   ],
   "source": [
    "artist"
   ]
  },
  {
   "cell_type": "markdown",
   "metadata": {},
   "source": [
    "# Supression des dernières columns"
   ]
  },
  {
   "cell_type": "code",
   "execution_count": 194,
   "metadata": {},
   "outputs": [],
   "source": [
    "#Supprime les dernières colonnes pour relancer le scrapping sur wikipédia\n",
    "for k1 in dfs_chart.keys():\n",
    "    for k2 in dfs_chart[k1].keys():\n",
    "        dfs_chart[k1][k2].drop(columns=[\"Naissance\", \"Pays d'origine\", \"Origine\", \"Pays\", \"Nationalité\", \"Artist_wiki\", \"Summary\"], inplace=True)"
   ]
  },
  {
   "cell_type": "code",
   "execution_count": 195,
   "metadata": {},
   "outputs": [
    {
     "data": {
      "text/html": [
       "<div>\n",
       "<style scoped>\n",
       "    .dataframe tbody tr th:only-of-type {\n",
       "        vertical-align: middle;\n",
       "    }\n",
       "\n",
       "    .dataframe tbody tr th {\n",
       "        vertical-align: top;\n",
       "    }\n",
       "\n",
       "    .dataframe thead th {\n",
       "        text-align: right;\n",
       "    }\n",
       "</style>\n",
       "<table border=\"1\" class=\"dataframe\">\n",
       "  <thead>\n",
       "    <tr style=\"text-align: right;\">\n",
       "      <th></th>\n",
       "      <th>Rank</th>\n",
       "      <th>Artist</th>\n",
       "      <th>Music</th>\n",
       "    </tr>\n",
       "  </thead>\n",
       "  <tbody>\n",
       "    <tr>\n",
       "      <th>0</th>\n",
       "      <td>1</td>\n",
       "      <td>Juanes</td>\n",
       "      <td>La Camisa Negra</td>\n",
       "    </tr>\n",
       "    <tr>\n",
       "      <th>1</th>\n",
       "      <td>2</td>\n",
       "      <td>Madonna</td>\n",
       "      <td>Hung Up</td>\n",
       "    </tr>\n",
       "    <tr>\n",
       "      <th>2</th>\n",
       "      <td>3</td>\n",
       "      <td>Johnny Hallyday</td>\n",
       "      <td>Mon Plus Beau Noël</td>\n",
       "    </tr>\n",
       "  </tbody>\n",
       "</table>\n",
       "</div>"
      ],
      "text/plain": [
       "   Rank           Artist               Music\n",
       "0     1           Juanes     La Camisa Negra\n",
       "1     2          Madonna             Hung Up\n",
       "2     3  Johnny Hallyday  Mon Plus Beau Noël"
      ]
     },
     "execution_count": 195,
     "metadata": {},
     "output_type": "execute_result"
    }
   ],
   "source": [
    "dfs_chart[\"2006\"][\"Janvier\"].head(3)"
   ]
  },
  {
   "cell_type": "code",
   "execution_count": 139,
   "metadata": {},
   "outputs": [
    {
     "data": {
      "text/html": [
       "<div>\n",
       "<style scoped>\n",
       "    .dataframe tbody tr th:only-of-type {\n",
       "        vertical-align: middle;\n",
       "    }\n",
       "\n",
       "    .dataframe tbody tr th {\n",
       "        vertical-align: top;\n",
       "    }\n",
       "\n",
       "    .dataframe thead th {\n",
       "        text-align: right;\n",
       "    }\n",
       "</style>\n",
       "<table border=\"1\" class=\"dataframe\">\n",
       "  <thead>\n",
       "    <tr style=\"text-align: right;\">\n",
       "      <th></th>\n",
       "      <th>Artist</th>\n",
       "      <th>Artist_wiki</th>\n",
       "      <th>Summary</th>\n",
       "    </tr>\n",
       "  </thead>\n",
       "  <tbody>\n",
       "    <tr>\n",
       "      <th>0</th>\n",
       "      <td>LP</td>\n",
       "      <td>LP</td>\n",
       "      <td>NaN</td>\n",
       "    </tr>\n",
       "    <tr>\n",
       "      <th>1</th>\n",
       "      <td>Les Enfants Du Pays</td>\n",
       "      <td>Les Enfants du pays</td>\n",
       "      <td>Les Enfants du pays est un film français de Pi...</td>\n",
       "    </tr>\n",
       "    <tr>\n",
       "      <th>2</th>\n",
       "      <td>Lynda</td>\n",
       "      <td>Lynda</td>\n",
       "      <td>Lynda Carter, née le 24 juillet 1951 à Phoenix...</td>\n",
       "    </tr>\n",
       "  </tbody>\n",
       "</table>\n",
       "</div>"
      ],
      "text/plain": [
       "                Artist          Artist_wiki  \\\n",
       "0                   LP                   LP   \n",
       "1  Les Enfants Du Pays  Les Enfants du pays   \n",
       "2                Lynda                Lynda   \n",
       "\n",
       "                                             Summary  \n",
       "0                                                NaN  \n",
       "1  Les Enfants du pays est un film français de Pi...  \n",
       "2  Lynda Carter, née le 24 juillet 1951 à Phoenix...  "
      ]
     },
     "execution_count": 139,
     "metadata": {},
     "output_type": "execute_result"
    }
   ],
   "source": [
    "artist.drop(columns=[\"Naissance\", \"Pays d'origine\", \"Origine\", \"Pays\", \"Nationalité\"], inplace=True)\n",
    "artist.head(3)"
   ]
  },
  {
   "cell_type": "code",
   "execution_count": 140,
   "metadata": {},
   "outputs": [],
   "source": [
    "artist.drop(columns=[\"Artist_wiki\"], inplace=True)"
   ]
  },
  {
   "cell_type": "markdown",
   "metadata": {},
   "source": [
    "# Scrapping chart"
   ]
  },
  {
   "cell_type": "code",
   "execution_count": 3,
   "metadata": {},
   "outputs": [],
   "source": [
    "years = [str(y) for y in np.arange(2004, 2023, 1)]\n",
    "weeks = [int(v) for v in np.linspace(1, 52, 12)]\n",
    "mois = [\"Janvier\", \"Fevrier\", \"Mars\", \"Avril\", \"Mai\", \"Juin\", \"Juillet\", \"Aout\", \"Septembre\", \"Octobre\", \"Novembre\", \"Decembre\"]"
   ]
  },
  {
   "cell_type": "code",
   "execution_count": 41,
   "metadata": {},
   "outputs": [
    {
     "name": "stderr",
     "output_type": "stream",
     "text": [
      "100%|██████████| 19/19 [01:13<00:00,  3.85s/it]\n"
     ]
    }
   ],
   "source": [
    "dfs_chart = {y : {} for y in years}\n",
    "for y in tqdm(years):\n",
    "    for k, w in enumerate(weeks):\n",
    "        url = f\"https://acharts.co/france_singles_top_100/{y}/{w}\"\n",
    "        rq = get(url)\n",
    "        m = mois[k]\n",
    "        if rq.ok:\n",
    "            soup = BeautifulSoup(rq.text)\n",
    "\n",
    "            chart = soup.find(\"table\", {\"id\" : \"ChartTable\"})\n",
    "            trs = chart.findAll(\"tr\")[1:]\n",
    "\n",
    "            data = []\n",
    "            for tr in trs:\n",
    "                music_name = tr.find(\"span\", {\"itemprop\" : \"name\"}).text.lower()\n",
    "                rank = tr.find(\"span\", {\"itemprop\" : \"position\"}).text.lower()\n",
    "                artist_name = tr.find(\"span\", {\"itemprop\" : \"byArtist\"}).text[2:-1].lower()\n",
    "                data.append([str(rank), str(artist_name), str(music_name)])\n",
    "\n",
    "            df = pd.DataFrame(data, columns=[\"Rank\", \"Artist\", \"Music\"])\n",
    "            dfs_chart[y][m] = df"
   ]
  },
  {
   "cell_type": "code",
   "execution_count": 42,
   "metadata": {},
   "outputs": [],
   "source": [
    "names = [\n",
    "    (\"Djadja\", \"Djadja et Dinaz\"),\n",
    "    (\"Lorie\", \"Lorie Pester\"),\n",
    "    (\"-M-\", \"Matthieu Chedid\"),\n",
    "    (\"Priscilla\", \"Priscilla Betti\"),\n",
    "    (\"I Am\", \"IAM\"),\n",
    "    (\"Sofiane\", \"Sofiane Zermani\"),\n",
    "    (\"Justice\", \"Justice (groupe\"),\n",
    "    (\"Soma Riba\", \"Collectif Métissé\"),\n",
    "    (\"Fresh\", \"Fresh la Peufra\"),\n",
    "    (\"Rosalia\", \"Rosalía\"),\n",
    "    (\"Italo Brothers\", \"ItaloBrothers\"),\n",
    "    (\"Far*east Movement\", \"Far East Movement\"),\n",
    "    (\"Odyssey\", \"Odyssey (groupe)\"),\n",
    "    (\"1789\", \"1789 : Les Amants de la Bastille\"),\n",
    "    (\"Clemence\", \"Clémence Saint-Preux\"),\n",
    "    (\"\\x9c\", \"oe\"),\n",
    "    (\"œ\", \"oe\"),\n",
    "    (\"Rose\", \"Rose (chanteuse)\"),\n",
    "    (\"Laeti\", \"Laetitia Kerfa\"),\n",
    "    (\"La Troupe\", \"Mozart, l'opéra rock\"),\n",
    "    (\"Victoria\", \"Victoria Sio\"),\n",
    "    (\"Christine And The Queens\", \"Redcar (artiste)\"),\n",
    "    (\"Earth and Wind And Fire\", \"Earth, Wind And Fire\"),\n",
    "    (\"Karol G\", \"Karol\"),\n",
    "    (\"$-Crew\", \"S-Crew\"),\n",
    "    (\"Jean Roch\", \"Jean-Roch\"),\n",
    "    (\"Keen V\", \"Keen'V\"),\n",
    "    (\"DJ Khaled\", \"Khaled\"),\n",
    "    (\"The Black Eyed Peas\", \"Black Eyed Peas\"),\n",
    "    (\"Dinor\", \"Dinor RDT\"),\n",
    "    (\"Koba La D\", \"Koba LaD\")\n",
    "]\n",
    "\n",
    "for k1 in dfs_chart.keys():\n",
    "    for k2 in dfs_chart[k1].keys():\n",
    "        dfs_chart[k1][k2][\"Artist\"] = dfs_chart[k1][k2][\"Artist\"].str.split(\" x \").str[0]\n",
    "        dfs_chart[k1][k2][\"Artist\"] = dfs_chart[k1][k2][\"Artist\"].str.split(\" - \").str[-1]\n",
    "        dfs_chart[k1][k2][\"Artist\"] = dfs_chart[k1][k2][\"Artist\"].str.split(\" \\+ \").str[0]\n",
    "        \n",
    "        for n1, n2 in names:\n",
    "            dfs_chart[k1][k2][\"Artist\"].replace(n1.lower(), n2.lower(), inplace=True)\n",
    "        "
   ]
  },
  {
   "cell_type": "markdown",
   "metadata": {},
   "source": [
    "# Scrapping birth"
   ]
  },
  {
   "cell_type": "code",
   "execution_count": 43,
   "metadata": {},
   "outputs": [],
   "source": [
    "def find_title_in_wikipedia(title):\n",
    "    pourcentage = 0.3\n",
    "    words = [\"(chanteur)\", \"(chanteuse)\", \"(groupe)\", \"(rappeur)\", \"(rappeuse)\", \"(musicien)\", \"(chanteur français)\", \"(france)\", \"(producteur)\", \"(artiste)\", \"(groupe de musique)\"]\n",
    "\n",
    "    wikipedia.set_lang(\"fr\")\n",
    "    results = wikipedia.search(title, results=10)\n",
    "    distance = []\n",
    "    if len(results) > 0:\n",
    "        for element in results:\n",
    "            if any((w in element.lower()) and (edit_distance(element.lower().split(\"(\")[0][:-1], title.lower())/len(title) < pourcentage) for w in words):\n",
    "                return element\n",
    "\n",
    "            distance.append(edit_distance(title.lower(), element.lower()))\n",
    "\n",
    "        return results[np.argmin(distance)] if min(distance)/len(title) < pourcentage else MISSING"
   ]
  },
  {
   "cell_type": "code",
   "execution_count": 44,
   "metadata": {},
   "outputs": [],
   "source": [
    "def wiki_birth(title):\n",
    "    cols = [\"Naissance\", \"Pays d'origine\", \"Origine\", \"Nationalité\", \"Pays\", \"Summary\"]\n",
    "    nats = [\"franco\", \"français\", \"belge\", \"canadien\", \"libanais\", \"réunionnais\"]\n",
    "    dic = {w : MISSING for w in cols}\n",
    "\n",
    "    if title == MISSING:\n",
    "        return dic\n",
    "\n",
    "    url = f\"https://fr.wikipedia.org/wiki/{title}\"\n",
    "    rq = get(url)\n",
    "\n",
    "    if not rq.ok:\n",
    "        return dic\n",
    "    \n",
    "    soup = BeautifulSoup(rq.text)\n",
    "    tables = soup.findAll(\"table\")\n",
    "\n",
    "    for table in tables:\n",
    "        trs = table.findAll(\"tr\")\n",
    "\n",
    "        for tr in trs:\n",
    "            th = tr.find(\"th\")\n",
    "\n",
    "            if th is not None:\n",
    "                for w in cols:\n",
    "                    if w in th.text:\n",
    "                        td = tr.find(\"td\")\n",
    "                        if td is not None:\n",
    "                            dic[w] = td.text.strip().lower()\n",
    "\n",
    "    wikipedia.set_lang(\"fr\")\n",
    "    try:\n",
    "        summary = wikipedia.summary(title, sentences=1)\n",
    "        dic[\"Summary\"] = summary.lower()\n",
    "\n",
    "        if dic[\"Nationalité\"] == MISSING:\n",
    "            for w in nats:\n",
    "                if w in summary:\n",
    "                    dic[\"Nationalité\"] = w.lower()\n",
    "                    return dic\n",
    "    except:\n",
    "        pass\n",
    "\n",
    "    return dic"
   ]
  },
  {
   "cell_type": "code",
   "execution_count": 45,
   "metadata": {},
   "outputs": [],
   "source": [
    "#Récupére tous les artistes uniques\n",
    "artist = []\n",
    "for k1 in dfs_chart.keys():\n",
    "    for k2 in dfs_chart[k1].keys():\n",
    "        artist += dfs_chart[k1][k2][\"Artist\"].tolist()\n",
    "    \n",
    "artist = pd.DataFrame(list(set(artist)), columns=[\"Artist\"])"
   ]
  },
  {
   "cell_type": "code",
   "execution_count": 46,
   "metadata": {},
   "outputs": [],
   "source": [
    "artist[\"Artist_wiki\"] = artist[\"Artist\"].apply(find_title_in_wikipedia) #Trouve les pages wikipedia de chaque artistes"
   ]
  },
  {
   "cell_type": "code",
   "execution_count": 47,
   "metadata": {},
   "outputs": [
    {
     "name": "stderr",
     "output_type": "stream",
     "text": [
      "c:\\Users\\quent\\AppData\\Local\\Programs\\Python\\Python310\\lib\\site-packages\\wikipedia\\wikipedia.py:389: GuessedAtParserWarning: No parser was explicitly specified, so I'm using the best available HTML parser for this system (\"html.parser\"). This usually isn't a problem, but if you run this code on another system, or in a different virtual environment, it may use a different parser and behave differently.\n",
      "\n",
      "The code that caused this warning is on line 389 of the file c:\\Users\\quent\\AppData\\Local\\Programs\\Python\\Python310\\lib\\site-packages\\wikipedia\\wikipedia.py. To get rid of this warning, pass the additional argument 'features=\"html.parser\"' to the BeautifulSoup constructor.\n",
      "\n",
      "  lis = BeautifulSoup(html).find_all('li')\n"
     ]
    }
   ],
   "source": [
    "birth_dic = artist[\"Artist_wiki\"].apply(wiki_birth) #Cherche les infos de naissance sur les pages wikipedia"
   ]
  },
  {
   "cell_type": "code",
   "execution_count": 48,
   "metadata": {},
   "outputs": [],
   "source": [
    "#Transforme les infos trouver sur wikipédia en dataframe\n",
    "dfs_birth = []\n",
    "for dic in birth_dic:\n",
    "    dfs_birth.append(pd.DataFrame(dic, index=[0]))\n",
    "birth = pd.concat(dfs_birth, ignore_index=True)"
   ]
  },
  {
   "cell_type": "code",
   "execution_count": 49,
   "metadata": {},
   "outputs": [],
   "source": [
    "#Merge les infos de naissance avec les infos des artistes\n",
    "artist = artist.merge(birth, left_index=True, right_index=True)\n",
    "artist = artist.set_index(\"Artist\")\n",
    "\n",
    "for k1 in dfs_chart.keys():\n",
    "    for k2 in dfs_chart[k1].keys():\n",
    "        dfs_chart[k1][k2] = dfs_chart[k1][k2].merge(artist, on=\"Artist\", how=\"left\")"
   ]
  },
  {
   "cell_type": "markdown",
   "metadata": {},
   "source": [
    "# CLEANNING"
   ]
  },
  {
   "cell_type": "code",
   "execution_count": 50,
   "metadata": {},
   "outputs": [],
   "source": [
    "def cleanning(data, replace_words):\n",
    "    new_df = data.copy()\n",
    "    new_df = new_df.str.lower()\n",
    "    for w1, w2 in replace_words:\n",
    "        new_df[new_df.str.contains(w1)] = w2\n",
    "\n",
    "    return new_df"
   ]
  },
  {
   "cell_type": "code",
   "execution_count": 51,
   "metadata": {},
   "outputs": [],
   "source": [
    "replace_words = [\n",
    "    (\"français\", \"française\"),\n",
    "    (\"franco\", \"française\"),\n",
    "    (\"canadien\", \"canadienne\"),\n",
    "    (\"américain\", \"américaine\"),\n",
    "    (\"états-unis\", \"américaine\"),\n",
    "    (\"algérien\", \"algérienne\"),\n",
    "    (\"brésil\", \"brésilienne\"),\n",
    "    (\"france\", \"française\"),\n",
    "    (\"marocain\", \"marocaine\"),\n",
    "    (\"anglais\", \"britannique\"),\n",
    "    (\"royaume-unis\", \"britannique\"),\n",
    "    (\"britannique\", \"britannique\"),\n",
    "    (\"espagn\", \"espagnole\"),\n",
    "    (\"italie\", \"italienne\"),\n",
    "    (\"japon\", \"japonaise\"),\n",
    "    (\"corée\", \"coréenne\"),\n",
    "    (\"israél\", \"israélienne\"),\n",
    "    (\"royaume-uni\", \"britannique\"),\n",
    "    (\"suède\", \"suédoise\"),\n",
    "    (\"allemand\", \"allemande\"),\n",
    "    (\"dominicain\", \"dominicaine\")\n",
    "]\n",
    "\n",
    "artist[\"Nationalité\"] = cleanning(artist[\"Nationalité\"], replace_words)\n",
    "artist[\"Origine\"] = cleanning(artist[\"Origine\"], replace_words)"
   ]
  },
  {
   "cell_type": "code",
   "execution_count": 52,
   "metadata": {},
   "outputs": [],
   "source": [
    "replace_words = [\n",
    "    (\"france\", \"france\"),\n",
    "    (\"états-unis\", \"états-unis\"),\n",
    "    (\"royaume-uni\", \"royaume-unis\"),\n",
    "    (\"allemagne\", \"allemagne\"),\n",
    "    (\"angleterre\", \"angleterre\"),\n",
    "    (\"canada\", \"canada\"),\n",
    "    (\"australie\", \"australie\"),\n",
    "    (\"pays-bas\", \"pays-bas\"),\n",
    "    (\"ghana\", \"ghana\"),\n",
    "    (\"corée\", \"corée\"),\n",
    "    (\"autriche\", \"autriche\"),\n",
    "    (\"suède\", \"suède\"),\n",
    "    (\"italie\", \"italie\"),\n",
    "    (\"biélorussie\", \"biélorussie\"),\n",
    "    (\"mauritanie\", \"mauritanie\")\n",
    "]\n",
    "\n",
    "artist[\"Pays\"] = cleanning(artist[\"Pays\"], replace_words)\n",
    "artist[\"Pays d'origine\"] = cleanning(artist[\"Pays d'origine\"], replace_words)"
   ]
  },
  {
   "cell_type": "markdown",
   "metadata": {},
   "source": [
    "# Birthday case"
   ]
  },
  {
   "cell_type": "markdown",
   "metadata": {},
   "source": [
    "# Export"
   ]
  },
  {
   "cell_type": "code",
   "execution_count": 53,
   "metadata": {},
   "outputs": [],
   "source": [
    "for k1 in dfs_chart.keys():\n",
    "    for k2 in dfs_chart[k1].keys():\n",
    "        dfs_chart[k1][k2].to_csv(f\"../chart/{k1}_{k2}.csv\", encoding=\"utf-8-sig\", index = False)"
   ]
  },
  {
   "cell_type": "code",
   "execution_count": 54,
   "metadata": {},
   "outputs": [],
   "source": [
    "artist.to_csv(\"../artist.csv\", encoding=\"utf-8-sig\")"
   ]
  }
 ],
 "metadata": {
  "kernelspec": {
   "display_name": "Python 3.10.4 64-bit",
   "language": "python",
   "name": "python3"
  },
  "language_info": {
   "codemirror_mode": {
    "name": "ipython",
    "version": 3
   },
   "file_extension": ".py",
   "mimetype": "text/x-python",
   "name": "python",
   "nbconvert_exporter": "python",
   "pygments_lexer": "ipython3",
   "version": "3.10.4"
  },
  "orig_nbformat": 4,
  "vscode": {
   "interpreter": {
    "hash": "2823d83d0138f4e88bebb1ac6893599dadbc35aa0bdabe1fb606adea8faab8b6"
   }
  }
 },
 "nbformat": 4,
 "nbformat_minor": 2
}
