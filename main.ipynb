{
 "cells": [
  {
   "cell_type": "code",
   "execution_count": 1,
   "metadata": {},
   "outputs": [],
   "source": [
    "from os import listdir\n",
    "import pandas as pd\n",
    "from bs4 import BeautifulSoup\n",
    "from requests import get\n",
    "import numpy as np\n",
    "from tqdm import tqdm\n",
    "import wikipedia\n",
    "from nltk.metrics.distance import edit_distance"
   ]
  },
  {
   "cell_type": "code",
   "execution_count": 2,
   "metadata": {},
   "outputs": [],
   "source": [
    "MISSING = \"\""
   ]
  },
  {
   "cell_type": "markdown",
   "metadata": {},
   "source": [
    "# Loading local data"
   ]
  },
  {
   "cell_type": "code",
   "execution_count": 3,
   "metadata": {},
   "outputs": [],
   "source": [
    "#Récupére les données sur le PC pour éviter de scrapper à chaque fois\n",
    "files = listdir(\"../chart\")\n",
    "\n",
    "dfs_chart = {}\n",
    "for f in files:\n",
    "    year = f.split(\"_\")[0]\n",
    "    month = f.split(\"_\")[1].split(\".\")[0]\n",
    "\n",
    "    if dfs_chart.get(year) is None:\n",
    "        dfs_chart[year] = {}\n",
    "        \n",
    "    dfs_chart[year][month] = pd.read_csv(\"../chart/\" + f)"
   ]
  },
  {
   "cell_type": "code",
   "execution_count": 4,
   "metadata": {},
   "outputs": [
    {
     "data": {
      "text/html": [
       "<div>\n",
       "<style scoped>\n",
       "    .dataframe tbody tr th:only-of-type {\n",
       "        vertical-align: middle;\n",
       "    }\n",
       "\n",
       "    .dataframe tbody tr th {\n",
       "        vertical-align: top;\n",
       "    }\n",
       "\n",
       "    .dataframe thead th {\n",
       "        text-align: right;\n",
       "    }\n",
       "</style>\n",
       "<table border=\"1\" class=\"dataframe\">\n",
       "  <thead>\n",
       "    <tr style=\"text-align: right;\">\n",
       "      <th></th>\n",
       "      <th>Rank</th>\n",
       "      <th>Artist</th>\n",
       "      <th>Music</th>\n",
       "    </tr>\n",
       "  </thead>\n",
       "  <tbody>\n",
       "    <tr>\n",
       "      <th>0</th>\n",
       "      <td>1</td>\n",
       "      <td>juanes</td>\n",
       "      <td>la camisa negra</td>\n",
       "    </tr>\n",
       "    <tr>\n",
       "      <th>1</th>\n",
       "      <td>2</td>\n",
       "      <td>madonna</td>\n",
       "      <td>hung up</td>\n",
       "    </tr>\n",
       "    <tr>\n",
       "      <th>2</th>\n",
       "      <td>3</td>\n",
       "      <td>johnny hallyday</td>\n",
       "      <td>mon plus beau noël</td>\n",
       "    </tr>\n",
       "  </tbody>\n",
       "</table>\n",
       "</div>"
      ],
      "text/plain": [
       "   Rank           Artist               Music\n",
       "0     1           juanes     la camisa negra\n",
       "1     2          madonna             hung up\n",
       "2     3  johnny hallyday  mon plus beau noël"
      ]
     },
     "execution_count": 4,
     "metadata": {},
     "output_type": "execute_result"
    }
   ],
   "source": [
    "dfs_chart[\"2006\"][\"Janvier\"].head(3)"
   ]
  },
  {
   "cell_type": "code",
   "execution_count": 52,
   "metadata": {},
   "outputs": [],
   "source": [
    "artist = pd.read_csv(\"../artist.csv\")"
   ]
  },
  {
   "cell_type": "code",
   "execution_count": 53,
   "metadata": {},
   "outputs": [
    {
     "data": {
      "text/html": [
       "<div>\n",
       "<style scoped>\n",
       "    .dataframe tbody tr th:only-of-type {\n",
       "        vertical-align: middle;\n",
       "    }\n",
       "\n",
       "    .dataframe tbody tr th {\n",
       "        vertical-align: top;\n",
       "    }\n",
       "\n",
       "    .dataframe thead th {\n",
       "        text-align: right;\n",
       "    }\n",
       "</style>\n",
       "<table border=\"1\" class=\"dataframe\">\n",
       "  <thead>\n",
       "    <tr style=\"text-align: right;\">\n",
       "      <th></th>\n",
       "      <th>Artist</th>\n",
       "      <th>Artist_wiki</th>\n",
       "      <th>Naissance</th>\n",
       "      <th>Pays d'origine</th>\n",
       "      <th>Origine</th>\n",
       "      <th>Nationalité</th>\n",
       "      <th>Pays</th>\n",
       "      <th>Summary</th>\n",
       "    </tr>\n",
       "  </thead>\n",
       "  <tbody>\n",
       "    <tr>\n",
       "      <th>0</th>\n",
       "      <td>ana</td>\n",
       "      <td>Ana</td>\n",
       "      <td>NaN</td>\n",
       "      <td>NaN</td>\n",
       "      <td>NaN</td>\n",
       "      <td>NaN</td>\n",
       "      <td>NaN</td>\n",
       "      <td>NaN</td>\n",
       "    </tr>\n",
       "    <tr>\n",
       "      <th>1</th>\n",
       "      <td>le manège enchanté</td>\n",
       "      <td>Le Manège enchanté</td>\n",
       "      <td>NaN</td>\n",
       "      <td>france</td>\n",
       "      <td>NaN</td>\n",
       "      <td>française</td>\n",
       "      <td>france</td>\n",
       "      <td>le manège enchanté est une série télévisée d'a...</td>\n",
       "    </tr>\n",
       "    <tr>\n",
       "      <th>2</th>\n",
       "      <td>raphael</td>\n",
       "      <td>Raphael (chanteur français)</td>\n",
       "      <td>7 novembre 1975 (47 ans)paris 8e,  france</td>\n",
       "      <td>NaN</td>\n",
       "      <td>NaN</td>\n",
       "      <td>française</td>\n",
       "      <td>NaN</td>\n",
       "      <td>raphaël haroche, dit raphael,,,, est un auteur...</td>\n",
       "    </tr>\n",
       "    <tr>\n",
       "      <th>3</th>\n",
       "      <td>pete yorn</td>\n",
       "      <td>Pete Yorn</td>\n",
       "      <td>27 juillet 1974 (48 ans)montville</td>\n",
       "      <td>NaN</td>\n",
       "      <td>NaN</td>\n",
       "      <td>américaine</td>\n",
       "      <td>NaN</td>\n",
       "      <td>peter yorn dit pete yorn est un musicien améri...</td>\n",
       "    </tr>\n",
       "    <tr>\n",
       "      <th>4</th>\n",
       "      <td>pzk</td>\n",
       "      <td>PZK</td>\n",
       "      <td>NaN</td>\n",
       "      <td>france</td>\n",
       "      <td>NaN</td>\n",
       "      <td>française</td>\n",
       "      <td>france</td>\n",
       "      <td>pzk est un groupe de pop et musique électroniq...</td>\n",
       "    </tr>\n",
       "    <tr>\n",
       "      <th>...</th>\n",
       "      <td>...</td>\n",
       "      <td>...</td>\n",
       "      <td>...</td>\n",
       "      <td>...</td>\n",
       "      <td>...</td>\n",
       "      <td>...</td>\n",
       "      <td>...</td>\n",
       "      <td>...</td>\n",
       "    </tr>\n",
       "    <tr>\n",
       "      <th>2241</th>\n",
       "      <td>nassi</td>\n",
       "      <td>Nassi</td>\n",
       "      <td>NaN</td>\n",
       "      <td>NaN</td>\n",
       "      <td>NaN</td>\n",
       "      <td>NaN</td>\n",
       "      <td>NaN</td>\n",
       "      <td>nassi (hébreu : נָשִׂיא) est un terme hébreu s...</td>\n",
       "    </tr>\n",
       "    <tr>\n",
       "      <th>2242</th>\n",
       "      <td>niall horan</td>\n",
       "      <td>Niall Horan</td>\n",
       "      <td>13 septembre 1993 (29 ans)mullingar,  irlande</td>\n",
       "      <td>NaN</td>\n",
       "      <td>NaN</td>\n",
       "      <td>NaN</td>\n",
       "      <td>NaN</td>\n",
       "      <td>niall james horan, né le 13 septembre 1993 à m...</td>\n",
       "    </tr>\n",
       "    <tr>\n",
       "      <th>2243</th>\n",
       "      <td>h.e.r.</td>\n",
       "      <td>H.E.R.</td>\n",
       "      <td>27 juin 1997 (25 ans)vallejo, états-unis</td>\n",
       "      <td>NaN</td>\n",
       "      <td>NaN</td>\n",
       "      <td>NaN</td>\n",
       "      <td>NaN</td>\n",
       "      <td>gabriella wilson, dite h.e.r., née le 27 juin ...</td>\n",
       "    </tr>\n",
       "    <tr>\n",
       "      <th>2244</th>\n",
       "      <td>erikel</td>\n",
       "      <td>NaN</td>\n",
       "      <td>NaN</td>\n",
       "      <td>NaN</td>\n",
       "      <td>NaN</td>\n",
       "      <td>NaN</td>\n",
       "      <td>NaN</td>\n",
       "      <td>NaN</td>\n",
       "    </tr>\n",
       "    <tr>\n",
       "      <th>2245</th>\n",
       "      <td>elize</td>\n",
       "      <td>NaN</td>\n",
       "      <td>NaN</td>\n",
       "      <td>NaN</td>\n",
       "      <td>NaN</td>\n",
       "      <td>NaN</td>\n",
       "      <td>NaN</td>\n",
       "      <td>NaN</td>\n",
       "    </tr>\n",
       "  </tbody>\n",
       "</table>\n",
       "<p>2246 rows × 8 columns</p>\n",
       "</div>"
      ],
      "text/plain": [
       "                  Artist                  Artist_wiki  \\\n",
       "0                    ana                          Ana   \n",
       "1     le manège enchanté           Le Manège enchanté   \n",
       "2                raphael  Raphael (chanteur français)   \n",
       "3              pete yorn                    Pete Yorn   \n",
       "4                    pzk                          PZK   \n",
       "...                  ...                          ...   \n",
       "2241               nassi                        Nassi   \n",
       "2242         niall horan                  Niall Horan   \n",
       "2243              h.e.r.                       H.E.R.   \n",
       "2244              erikel                          NaN   \n",
       "2245               elize                          NaN   \n",
       "\n",
       "                                          Naissance Pays d'origine Origine  \\\n",
       "0                                               NaN            NaN     NaN   \n",
       "1                                               NaN         france     NaN   \n",
       "2         7 novembre 1975 (47 ans)paris 8e,  france            NaN     NaN   \n",
       "3                 27 juillet 1974 (48 ans)montville            NaN     NaN   \n",
       "4                                               NaN         france     NaN   \n",
       "...                                             ...            ...     ...   \n",
       "2241                                            NaN            NaN     NaN   \n",
       "2242  13 septembre 1993 (29 ans)mullingar,  irlande            NaN     NaN   \n",
       "2243       27 juin 1997 (25 ans)vallejo, états-unis            NaN     NaN   \n",
       "2244                                            NaN            NaN     NaN   \n",
       "2245                                            NaN            NaN     NaN   \n",
       "\n",
       "     Nationalité    Pays                                            Summary  \n",
       "0            NaN     NaN                                                NaN  \n",
       "1      française  france  le manège enchanté est une série télévisée d'a...  \n",
       "2      française     NaN  raphaël haroche, dit raphael,,,, est un auteur...  \n",
       "3     américaine     NaN  peter yorn dit pete yorn est un musicien améri...  \n",
       "4      française  france  pzk est un groupe de pop et musique électroniq...  \n",
       "...          ...     ...                                                ...  \n",
       "2241         NaN     NaN  nassi (hébreu : נָשִׂיא) est un terme hébreu s...  \n",
       "2242         NaN     NaN  niall james horan, né le 13 septembre 1993 à m...  \n",
       "2243         NaN     NaN  gabriella wilson, dite h.e.r., née le 27 juin ...  \n",
       "2244         NaN     NaN                                                NaN  \n",
       "2245         NaN     NaN                                                NaN  \n",
       "\n",
       "[2246 rows x 8 columns]"
      ]
     },
     "execution_count": 53,
     "metadata": {},
     "output_type": "execute_result"
    }
   ],
   "source": [
    "artist"
   ]
  },
  {
   "cell_type": "markdown",
   "metadata": {},
   "source": [
    "# Supression des dernières columns"
   ]
  },
  {
   "cell_type": "code",
   "execution_count": 56,
   "metadata": {},
   "outputs": [
    {
     "data": {
      "text/html": [
       "<div>\n",
       "<style scoped>\n",
       "    .dataframe tbody tr th:only-of-type {\n",
       "        vertical-align: middle;\n",
       "    }\n",
       "\n",
       "    .dataframe tbody tr th {\n",
       "        vertical-align: top;\n",
       "    }\n",
       "\n",
       "    .dataframe thead th {\n",
       "        text-align: right;\n",
       "    }\n",
       "</style>\n",
       "<table border=\"1\" class=\"dataframe\">\n",
       "  <thead>\n",
       "    <tr style=\"text-align: right;\">\n",
       "      <th></th>\n",
       "      <th>Artist</th>\n",
       "      <th>Artist_wiki</th>\n",
       "      <th>Summary</th>\n",
       "    </tr>\n",
       "  </thead>\n",
       "  <tbody>\n",
       "    <tr>\n",
       "      <th>0</th>\n",
       "      <td>ana</td>\n",
       "      <td>Ana</td>\n",
       "      <td>NaN</td>\n",
       "    </tr>\n",
       "    <tr>\n",
       "      <th>1</th>\n",
       "      <td>le manège enchanté</td>\n",
       "      <td>Le Manège enchanté</td>\n",
       "      <td>le manège enchanté est une série télévisée d'a...</td>\n",
       "    </tr>\n",
       "    <tr>\n",
       "      <th>2</th>\n",
       "      <td>raphael</td>\n",
       "      <td>Raphael (chanteur français)</td>\n",
       "      <td>raphaël haroche, dit raphael,,,, est un auteur...</td>\n",
       "    </tr>\n",
       "  </tbody>\n",
       "</table>\n",
       "</div>"
      ],
      "text/plain": [
       "               Artist                  Artist_wiki  \\\n",
       "0                 ana                          Ana   \n",
       "1  le manège enchanté           Le Manège enchanté   \n",
       "2             raphael  Raphael (chanteur français)   \n",
       "\n",
       "                                             Summary  \n",
       "0                                                NaN  \n",
       "1  le manège enchanté est une série télévisée d'a...  \n",
       "2  raphaël haroche, dit raphael,,,, est un auteur...  "
      ]
     },
     "execution_count": 56,
     "metadata": {},
     "output_type": "execute_result"
    }
   ],
   "source": [
    "artist.drop(columns=[\"Naissance\", \"Pays d'origine\", \"Origine\", \"Pays\", \"Nationalité\"], inplace=True)\n",
    "artist.head(3)"
   ]
  },
  {
   "cell_type": "code",
   "execution_count": 57,
   "metadata": {},
   "outputs": [],
   "source": [
    "artist.drop(columns=[\"Artist_wiki\"], inplace=True)"
   ]
  },
  {
   "cell_type": "markdown",
   "metadata": {},
   "source": [
    "# Scrapping chart"
   ]
  },
  {
   "cell_type": "code",
   "execution_count": 23,
   "metadata": {},
   "outputs": [],
   "source": [
    "years = [str(y) for y in np.arange(2004, 2023, 1)]\n",
    "weeks = [int(v) for v in np.linspace(1, 52, 12)]\n",
    "mois = [\"Janvier\", \"Fevrier\", \"Mars\", \"Avril\", \"Mai\", \"Juin\", \"Juillet\", \"Aout\", \"Septembre\", \"Octobre\", \"Novembre\", \"Decembre\"]"
   ]
  },
  {
   "cell_type": "code",
   "execution_count": 24,
   "metadata": {},
   "outputs": [
    {
     "name": "stderr",
     "output_type": "stream",
     "text": [
      "100%|██████████| 19/19 [02:36<00:00,  8.26s/it]\n"
     ]
    }
   ],
   "source": [
    "dfs_chart = {y : {} for y in years}\n",
    "for y in tqdm(years):\n",
    "    for k, w in enumerate(weeks):\n",
    "        url = f\"https://acharts.co/france_singles_top_100/{y}/{w}\"\n",
    "        rq = get(url)\n",
    "        m = mois[k]\n",
    "        if rq.ok:\n",
    "            soup = BeautifulSoup(rq.text)\n",
    "\n",
    "            chart = soup.find(\"table\", {\"id\" : \"ChartTable\"})\n",
    "            trs = chart.findAll(\"tr\")[1:]\n",
    "\n",
    "            data = []\n",
    "            for tr in trs:\n",
    "                music_name = tr.find(\"span\", {\"itemprop\" : \"name\"}).text.lower()\n",
    "                rank = tr.find(\"span\", {\"itemprop\" : \"position\"}).text.lower()\n",
    "                artist_name = tr.find(\"span\", {\"itemprop\" : \"byArtist\"}).text[2:-1].lower()\n",
    "                data.append([str(rank), str(artist_name), str(music_name)])\n",
    "\n",
    "            df = pd.DataFrame(data, columns=[\"Rank\", \"Artist\", \"Music\"])\n",
    "            dfs_chart[y][m] = df"
   ]
  },
  {
   "cell_type": "markdown",
   "metadata": {},
   "source": [
    "# Cleanning chart"
   ]
  },
  {
   "cell_type": "code",
   "execution_count": 5,
   "metadata": {},
   "outputs": [],
   "source": [
    "names = [\n",
    "    (\"Djadja\", \"Djadja et Dinaz\"),\n",
    "    (\"Lorie\", \"Lorie Pester\"),\n",
    "    (\"-m-\", \"Matthieu Chedid\"),\n",
    "    (\"Priscilla\", \"Priscilla Betti\"),\n",
    "    (\"I Am\", \"IAM\"),\n",
    "    (\"Sofiane\", \"Sofiane Zermani\"),\n",
    "    (\"Justice\", \"Justice (groupe)\"),\n",
    "    (\"Soma Riba\", \"Collectif Métissé\"),\n",
    "    (\"Fresh\", \"Fresh la Peufra\"),\n",
    "    (\"Rosalia\", \"Rosalía\"),\n",
    "    (\"Italo Brothers\", \"ItaloBrothers\"),\n",
    "    (\"Far\\*east Movement\", \"Far East Movement\"),\n",
    "    (\"Odyssey\", \"Odyssey (groupe)\"),\n",
    "    (\"1789\", \"1789 : Les Amants de la Bastille\"),\n",
    "    (\"Clemence\", \"Clémence Saint-Preux\"),\n",
    "    (\"Rose\", \"Rose (chanteuse)\"),\n",
    "    (\"Laeti\", \"Laetitia Kerfa\"),\n",
    "    (\"La Troupe\", \"Mozart, l'opéra rock\"),\n",
    "    (\"Victoria\", \"Victoria Sio\"),\n",
    "    (\"Christine And The Queens\", \"Redcar (artiste)\"),\n",
    "    (\"Earth and Wind And Fire\", \"Earth, Wind And Fire\"),\n",
    "    (\"Jean Roch\", \"Jean-Roch\"),\n",
    "    (\"Keen V\", \"Keen'V\"),\n",
    "    (\"Dinor\", \"Dinor RDT\"),\n",
    "    (\"Koba La D\", \"Koba LaD\"),\n",
    "    (\"scotts\", \"Travis Scott\"),\n",
    "    (\"louane emera\", \"louane\"),\n",
    "    (\"maitre gims\", \"gims\"),\n",
    "    (\"p!nk\", \"pink\"),\n",
    "    (\"Eva\", \"Eva Queen\"),\n",
    "    (\"dj tiësto\", \"tiesto\"),\n",
    "    (\"Karol\", \"Karol G\"),\n",
    "    (\"Khaled\", \"DJ Khaled\"),\n",
    "    (\"Black Eyed Peas\", \"The Black Eyed Peas\"),\n",
    "    (\"L.E.J\", \"LEJ\"),\n",
    "    (\"Disiz la peste\", \"Disiz\"),\n",
    "    (\"k'maro\", \"k. maro\"),\n",
    "    (\"shin sekaï\", \"The Shin Sekaï\"),\n",
    "    (\"the niro\", \"niro\"),\n",
    "    (\"r.i.o.\", \"rio\"),\n",
    "    (\"zayn\", \"zayn malik\"),\n",
    "    (\"dimitri vegas\", \"dimitri vegas & like mike\"),\n",
    "    (\"cauet\", \"Sébastien Cauet\"),\n",
    "    (\"do\", \"the do\"),\n",
    "    (\"les filles\", \"Aurélie Konaté\")\n",
    "]\n",
    "\n",
    "replace_words = [\n",
    "    (\"\\x9c\", \"oe\"),\n",
    "    (\"œ\", \"oe\"),\n",
    "    (\"\\$\", \"S\"),\n",
    "]\n",
    "\n",
    "for k1 in dfs_chart.keys():\n",
    "    for k2 in dfs_chart[k1].keys():\n",
    "        dfs_chart[k1][k2][\"Artist\"] = dfs_chart[k1][k2][\"Artist\"].str.split(\" x \").str[0]\n",
    "        dfs_chart[k1][k2][\"Artist\"] = dfs_chart[k1][k2][\"Artist\"].str.split(\" - \").str[-1]\n",
    "        dfs_chart[k1][k2][\"Artist\"] = dfs_chart[k1][k2][\"Artist\"].str.split(\" \\+ \").str[0]\n",
    "\n",
    "        dfs_chart[k1][k2][\"Artist\"] = dfs_chart[k1][k2][\"Artist\"].apply(lambda x: \"star academy\" if \"star academy\" in x else x)\n",
    "        \n",
    "        for n1, n2 in names:\n",
    "            dfs_chart[k1][k2][\"Artist\"] = dfs_chart[k1][k2][\"Artist\"].apply(lambda x: n2 if x == n1 else x)\n",
    "\n",
    "        for n1, n2 in replace_words:\n",
    "            dfs_chart[k1][k2][\"Artist\"] = dfs_chart[k1][k2][\"Artist\"].str.replace(n1.lower(), n2.lower(), regex=False)\n",
    "        "
   ]
  },
  {
   "cell_type": "markdown",
   "metadata": {},
   "source": [
    "# Scrapping birth"
   ]
  },
  {
   "cell_type": "code",
   "execution_count": 6,
   "metadata": {},
   "outputs": [],
   "source": [
    "def find_title_in_wikipedia(title, pourcentage=0.3):\n",
    "    words = [\"(chanteur)\", \"(chanteuse)\", \"(groupe)\", \"(rappeur)\", \"(rappeuse)\", \"(musicien)\", \"(chanteur français)\", \"(france)\", \"(producteur)\", \"(artiste)\", \"(groupe de musique)\"]\n",
    "\n",
    "    wikipedia.set_lang(\"fr\")\n",
    "    results = wikipedia.search(title, results=10)\n",
    "    distance = []\n",
    "    if len(results) > 0:\n",
    "        for element in results:\n",
    "            if any((w in element.lower()) and (edit_distance(element.lower().split(\" (\")[0].strip(), title.lower().strip())/len(title) < pourcentage) for w in words):\n",
    "                return element\n",
    "\n",
    "            distance.append(edit_distance(title.lower().strip(), element.lower().strip()))\n",
    "\n",
    "        return results[np.argmin(distance)] if min(distance)/len(title) < pourcentage else MISSING"
   ]
  },
  {
   "cell_type": "code",
   "execution_count": 7,
   "metadata": {},
   "outputs": [],
   "source": [
    "def wiki_birth(title):\n",
    "    cols = [\"Naissance\", \"Pays d'origine\", \"Origine\", \"Nationalité\", \"Pays\", \"Summary\"]\n",
    "    nats = [\"franco\", \"français\", \"belge\", \"canadien\", \"libanais\", \"réunionnais\"]\n",
    "    dic = {w : MISSING for w in cols}\n",
    "\n",
    "    if title == MISSING:\n",
    "        return dic\n",
    "\n",
    "    url = f\"https://fr.wikipedia.org/wiki/{title}\"\n",
    "    rq = get(url)\n",
    "\n",
    "    if not rq.ok:\n",
    "        return dic\n",
    "    \n",
    "    soup = BeautifulSoup(rq.text)\n",
    "    tables = soup.findAll(\"table\")\n",
    "\n",
    "    for table in tables:\n",
    "        trs = table.findAll(\"tr\")\n",
    "\n",
    "        for tr in trs:\n",
    "            th = tr.find(\"th\")\n",
    "\n",
    "            if th is not None:\n",
    "                for w in cols:\n",
    "                    if w in th.text:\n",
    "                        td = tr.find(\"td\")\n",
    "                        if td is not None:\n",
    "                            dic[w] = td.text.strip().lower()\n",
    "\n",
    "    wikipedia.set_lang(\"fr\")\n",
    "    try:\n",
    "        summary = wikipedia.summary(title, sentences=1)\n",
    "        dic[\"Summary\"] = summary.lower().strip()\n",
    "\n",
    "        if dic[\"Nationalité\"] == MISSING:\n",
    "            for w in nats:\n",
    "                if w in summary:\n",
    "                    dic[\"Nationalité\"] = w.lower().strip()\n",
    "                    return dic\n",
    "    except:\n",
    "        pass\n",
    "\n",
    "    return dic"
   ]
  },
  {
   "cell_type": "code",
   "execution_count": 8,
   "metadata": {},
   "outputs": [],
   "source": [
    "#Récupére tous les artistes uniques\n",
    "artist = []\n",
    "for k1 in dfs_chart.keys():\n",
    "    for k2 in dfs_chart[k1].keys():\n",
    "        artist += dfs_chart[k1][k2][\"Artist\"].tolist()\n",
    "    \n",
    "artist = pd.DataFrame(list(set(artist)), columns=[\"Artist\"])"
   ]
  },
  {
   "cell_type": "code",
   "execution_count": 9,
   "metadata": {},
   "outputs": [],
   "source": [
    "artist[\"Artist_wiki\"] = artist[\"Artist\"].apply(lambda x : find_title_in_wikipedia(x, 0.2)) #Trouve les pages wikipedia de chaque artistes"
   ]
  },
  {
   "cell_type": "code",
   "execution_count": 10,
   "metadata": {},
   "outputs": [
    {
     "name": "stderr",
     "output_type": "stream",
     "text": [
      "c:\\Users\\quent\\AppData\\Local\\Programs\\Python\\Python310\\lib\\site-packages\\wikipedia\\wikipedia.py:389: GuessedAtParserWarning: No parser was explicitly specified, so I'm using the best available HTML parser for this system (\"html.parser\"). This usually isn't a problem, but if you run this code on another system, or in a different virtual environment, it may use a different parser and behave differently.\n",
      "\n",
      "The code that caused this warning is on line 389 of the file c:\\Users\\quent\\AppData\\Local\\Programs\\Python\\Python310\\lib\\site-packages\\wikipedia\\wikipedia.py. To get rid of this warning, pass the additional argument 'features=\"html.parser\"' to the BeautifulSoup constructor.\n",
      "\n",
      "  lis = BeautifulSoup(html).find_all('li')\n"
     ]
    }
   ],
   "source": [
    "birth_dic = artist[\"Artist_wiki\"].apply(wiki_birth) #Cherche les infos de naissance sur les pages wikipedia"
   ]
  },
  {
   "cell_type": "code",
   "execution_count": 11,
   "metadata": {},
   "outputs": [],
   "source": [
    "#Transforme les infos trouver sur wikipédia en dataframe\n",
    "dfs_birth = []\n",
    "for dic in birth_dic:\n",
    "    dfs_birth.append(pd.DataFrame(dic, index=[0]))\n",
    "birth = pd.concat(dfs_birth, ignore_index=True)"
   ]
  },
  {
   "cell_type": "code",
   "execution_count": 12,
   "metadata": {},
   "outputs": [],
   "source": [
    "#Merge les infos de naissance avec les infos des artistes\n",
    "artist = artist.merge(birth, left_index=True, right_index=True)\n",
    "artist = artist.set_index(\"Artist\")"
   ]
  },
  {
   "cell_type": "code",
   "execution_count": 13,
   "metadata": {},
   "outputs": [],
   "source": [
    "#On ajoute manuellement les informations pour les artistes importants qui n'ont pas été trouvé sur wikipedia\n",
    "manuel_names = [\n",
    "    (\"sound of legend\", \"MANUEL\", MISSING, MISSING, MISSING, \"français\", MISSING, MISSING),\n",
    "    (\"al. hy\", \"MANUEL\", \"15 novembre 1993\", MISSING, MISSING, \"français\", MISSING, \"15 novembre 1993 (Âge: 29 ans), Saint-Amand-les-Eaux\"),\n",
    "    (\"glk\", \"MANUEL\", MISSING, MISSING, MISSING, \"français\", MISSING, \"Originaire de Bobigny, en Seine-Saint-Denis\"),\n",
    "    (\"paul glaeser\", \"MANUEL\", \"1963\", MISSING, MISSING, \"français\", MISSING, MISSING),\n",
    "    (\"bolémvn\", \"MANUEL\", \"29 novembre 1996\", MISSING, MISSING, \"français\", MISSING, \"Bryan Mounkala (né le 29 novembre 1996) mieux connu sous le nom de Bolémvn est un rappeur français d'Évry, Essonne, Île-de-France, France.\"),\n",
    "    (\"paul glaeser\", \"MANUEL\", \"1963\", MISSING, MISSING, \"français\", MISSING, MISSING),\n",
    "    (\"1pliké140\", \"MANUEL\", \"1963\", MISSING, MISSING, \"français\", MISSING, \"1PLIKÉ140 est un jeune rappeur français originaire de Clamart (92) en banlieue parisienne.\"),\n",
    "    (\"jérôme collet\", \"MANUEL\", MISSING, MISSING, MISSING, \"français\", MISSING, MISSING),\n",
    "    (\"funnybear\", \"MANUEL\", MISSING, MISSING, MISSING, \"français\", MISSING, MISSING),\n",
    "    (\"tom snare\", \"MANUEL\", MISSING, MISSING, MISSING, \"français\", MISSING, \"Xavier Decanter, mieux connu sous son nom de scène Tom Snare, est un DJ et producteur de disques français originaire de Dunkerque.\"),\n",
    "    (\"funnybear\", \"MANUEL\", \"22 janvier 1991\", MISSING, MISSING, \"français\", MISSING, \"22 janvier 1991 (Âge: 31 ans), Hyères\"),\n",
    "    (\"landy\", \"MANUEL\", \"2000\", MISSING, MISSING, \"français\", MISSING, \"Dylan Sylla Gahoussou, « Landy » de son nom de scène, est né dans le XIXe arrondissement de Paris\"),\n",
    "    (\"dry\", \"MANUEL\", \"19 novembre 1977\", MISSING, MISSING, \"français\", MISSING, \"Landry Delica a grandi à Sevran en Seine-Saint-Denis\"),\n",
    "    (\"sasso\", \"MANUEL\", MISSING, MISSING, MISSING, \"français\", MISSING, \"Né à Vénissieux d'un père togolais et d'une mère marocaine\"),\n",
    "    (\"neïman\", \"MANUEL\", MISSING, MISSING, MISSING, \"guyanais\", MISSING, \"NEÏMAN est un chanteur et toaster français de dancehall et de reggae-soul né RAY NEÏMAN en Guyane.\"),\n",
    "    (\"isk\", \"MANUEL\", \"20 mars 2003\", MISSING, MISSING, \"français\", MISSING, \"ISK, de son vrain nom Kais Ben Baccar, est un rappeur français d'origine tunisienne, né au Canada. Habitant La Ferté-sous-Jouarre (77), il est membre du label Bendo 11 Records sous la division rap GrandLine.\"),\n",
    "    (\"yaro\", \"MANUEL\", \"1996\", MISSING, MISSING, \"français\", MISSING, \"Yaro, anciennement Sirsy, est un rappeur français originaire de la ville de Yerres dans l'Essonne.\")\n",
    "]\n",
    "\n",
    "manuel_artist = pd.DataFrame(manuel_names, columns=[\"Artist\", \"Artist_wiki\", \"Naissance\", \"Pays d'origine\", \"Origine\", \"Nationalité\", \"Pays\", \"Summary\"]).set_index(\"Artist\")\n",
    "artist.drop(index=manuel_artist.index, inplace=True)\n",
    "artist = pd.concat([artist, manuel_artist])"
   ]
  },
  {
   "cell_type": "markdown",
   "metadata": {},
   "source": [
    "# Cleanning Wikipédia results"
   ]
  },
  {
   "cell_type": "code",
   "execution_count": 36,
   "metadata": {},
   "outputs": [],
   "source": [
    "gentille_df = pd.read_csv(\"../monde/gentille.csv\")\n",
    "gentille = gentille_df[\"gentille\"].tolist()\n",
    "pays = gentille_df[\"pays\"].tolist()"
   ]
  },
  {
   "cell_type": "code",
   "execution_count": 37,
   "metadata": {},
   "outputs": [],
   "source": [
    "def cleanning(data, replace_words):\n",
    "    if data == MISSING:\n",
    "        return MISSING\n",
    "    else:\n",
    "        distances = []\n",
    "        for r in replace_words:\n",
    "            distances.append(edit_distance(data.lower(), r.lower()))\n",
    "        return replace_words[np.argmin(distances)]"
   ]
  },
  {
   "cell_type": "code",
   "execution_count": 38,
   "metadata": {},
   "outputs": [],
   "source": [
    "artist[\"Nationalité\"] = artist[\"Nationalité\"].apply(lambda x : cleanning(x, gentille))\n",
    "artist[\"Origine\"] = artist[\"Origine\"].apply(lambda x : cleanning(x, gentille))"
   ]
  },
  {
   "cell_type": "code",
   "execution_count": 39,
   "metadata": {},
   "outputs": [],
   "source": [
    "artist[\"Pays\"] = artist[\"Pays\"].apply(lambda x : cleanning(x, pays))\n",
    "artist[\"Pays d'origine\"] = artist[\"Pays d'origine\"].apply(lambda x : cleanning(x, pays))"
   ]
  },
  {
   "cell_type": "markdown",
   "metadata": {},
   "source": [
    "# Export"
   ]
  },
  {
   "cell_type": "code",
   "execution_count": 40,
   "metadata": {},
   "outputs": [],
   "source": [
    "for k1 in dfs_chart.keys():\n",
    "    for k2 in dfs_chart[k1].keys():\n",
    "        dfs_chart[k1][k2].to_csv(f\"../chart/{k1}_{k2}.csv\", encoding=\"utf-8-sig\", index = False)"
   ]
  },
  {
   "cell_type": "code",
   "execution_count": 41,
   "metadata": {},
   "outputs": [],
   "source": [
    "artist.to_csv(\"../artist.csv\", encoding=\"utf-8-sig\")"
   ]
  }
 ],
 "metadata": {
  "kernelspec": {
   "display_name": "Python 3.10.4 64-bit",
   "language": "python",
   "name": "python3"
  },
  "language_info": {
   "codemirror_mode": {
    "name": "ipython",
    "version": 3
   },
   "file_extension": ".py",
   "mimetype": "text/x-python",
   "name": "python",
   "nbconvert_exporter": "python",
   "pygments_lexer": "ipython3",
   "version": "3.10.4"
  },
  "orig_nbformat": 4,
  "vscode": {
   "interpreter": {
    "hash": "2823d83d0138f4e88bebb1ac6893599dadbc35aa0bdabe1fb606adea8faab8b6"
   }
  }
 },
 "nbformat": 4,
 "nbformat_minor": 2
}
