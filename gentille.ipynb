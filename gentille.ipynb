{
 "cells": [
  {
   "cell_type": "code",
   "execution_count": 1,
   "metadata": {},
   "outputs": [],
   "source": [
    "from requests import get\n",
    "from bs4 import BeautifulSoup\n",
    "import pandas as pd\n",
    "import re"
   ]
  },
  {
   "cell_type": "code",
   "execution_count": 2,
   "metadata": {},
   "outputs": [],
   "source": [
    "url = \"https://libresavoir.org/index.php?title=Gentil%C3%A9\"\n",
    "response = get(url)\n",
    "soup = BeautifulSoup(response.text, 'html.parser')"
   ]
  },
  {
   "cell_type": "code",
   "execution_count": 3,
   "metadata": {},
   "outputs": [],
   "source": [
    "uls = soup.findAll('ul')[7:88]"
   ]
  },
  {
   "cell_type": "code",
   "execution_count": 4,
   "metadata": {},
   "outputs": [],
   "source": [
    "gentille = []\n",
    "\n",
    "for ul in uls:\n",
    "    strongs = ul.findAll('strong')\n",
    "    for strong in strongs:\n",
    "        if re.search(r\"[a-z]+\\xa0: [a-z]+\", strong.text.lower()):\n",
    "            gentille.append(strong.text.lower())"
   ]
  },
  {
   "cell_type": "code",
   "execution_count": 5,
   "metadata": {},
   "outputs": [],
   "source": [
    "gentille = pd.DataFrame(gentille)\n",
    "gentille[0] = gentille[0].str.replace(\"\\xa0: \", \" : \")\n",
    "gentille = gentille[0].str.split(\" : \", expand=True)"
   ]
  },
  {
   "cell_type": "code",
   "execution_count": 6,
   "metadata": {},
   "outputs": [],
   "source": [
    "gentille.columns = [\"pays\", \"gentille\"]"
   ]
  },
  {
   "cell_type": "code",
   "execution_count": 15,
   "metadata": {},
   "outputs": [],
   "source": [
    "manuel_add = [\n",
    "    [\"états-unis\", \"américains\"],\n",
    "    [\"angleterre\", \"britannique\"],\n",
    "    [\"écosse\", \"écossais\"]\n",
    "]\n",
    "\n",
    "gentille = pd.concat([gentille, pd.DataFrame(manuel_add, columns=gentille.columns)], axis=0, ignore_index=True)"
   ]
  },
  {
   "cell_type": "code",
   "execution_count": 16,
   "metadata": {},
   "outputs": [],
   "source": [
    "gentille.to_csv(\"../monde/gentille.csv\", index=False, encoding=\"utf-8-sig\")"
   ]
  }
 ],
 "metadata": {
  "kernelspec": {
   "display_name": "Python 3.8.3 64-bit",
   "language": "python",
   "name": "python3"
  },
  "language_info": {
   "codemirror_mode": {
    "name": "ipython",
    "version": 3
   },
   "file_extension": ".py",
   "mimetype": "text/x-python",
   "name": "python",
   "nbconvert_exporter": "python",
   "pygments_lexer": "ipython3",
   "version": "3.8.3"
  },
  "orig_nbformat": 4,
  "vscode": {
   "interpreter": {
    "hash": "570feb405e2e27c949193ac68f46852414290d515b0ba6e5d90d076ed2284471"
   }
  }
 },
 "nbformat": 4,
 "nbformat_minor": 2
}
