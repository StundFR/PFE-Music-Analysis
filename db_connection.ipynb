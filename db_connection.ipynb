{
 "cells": [
  {
   "cell_type": "code",
   "execution_count": 4,
   "metadata": {},
   "outputs": [
    {
     "name": "stdout",
     "output_type": "stream",
     "text": [
      "Requirement already satisfied: psycopg2 in c:\\users\\cytech student\\appdata\\roaming\\python\\python38\\site-packages (2.9.5)\n",
      "Note: you may need to restart the kernel to use updated packages.\n"
     ]
    },
    {
     "name": "stderr",
     "output_type": "stream",
     "text": [
      "WARNING: You are using pip version 19.2.3, however version 22.3.1 is available.\n",
      "You should consider upgrading via the 'python -m pip install --upgrade pip' command.\n"
     ]
    }
   ],
   "source": [
    "pip install psycopg2"
   ]
  },
  {
   "cell_type": "code",
   "execution_count": 3,
   "metadata": {},
   "outputs": [],
   "source": [
    "import psycopg2"
   ]
  },
  {
   "cell_type": "code",
   "execution_count": 2,
   "metadata": {},
   "outputs": [],
   "source": [
    "import numpy as np\n",
    "import re"
   ]
  },
  {
   "cell_type": "code",
   "execution_count": 3,
   "metadata": {},
   "outputs": [],
   "source": [
    "\n",
    "conn = psycopg2.connect(\"dbname=top100 user=postgres password=im4uema3cohb\")"
   ]
  },
  {
   "cell_type": "code",
   "execution_count": 28,
   "metadata": {},
   "outputs": [],
   "source": [
    "cur = conn.cursor()\n",
    "command = \"DROP TABLE IF EXISTS music;\"\n",
    "cur.execute(command)\n",
    "command = \"DROP TABLE IF EXISTS artist;\"\n",
    "cur.execute(command)\n",
    "cur.close()"
   ]
  },
  {
   "cell_type": "code",
   "execution_count": 29,
   "metadata": {},
   "outputs": [],
   "source": [
    "#table paroles avec foreign key nom musique et nom artiste\n",
    "commands = (\n",
    "        \"\"\"\n",
    "CREATE TABLE artist(\n",
    "   id_artist INT GENERATED ALWAYS AS IDENTITY,\n",
    "   nameArtist VARCHAR(100),\n",
    "   birth DATE,\n",
    "   city VARCHAR(100),\n",
    "   country VARCHAR(100),\n",
    "   PRIMARY KEY(id_artist)\n",
    ")\n",
    "        \"\"\",\n",
    "        \"\"\"\n",
    "CREATE TABLE music(\n",
    "   id_music INT GENERATED ALWAYS AS IDENTITY,\n",
    "   id_artist INT,\n",
    "   title VARCHAR(100),\n",
    "   lyrics VARCHAR(1000),\n",
    "   genre VARCHAR(100),\n",
    "   releaseDate DATE,\n",
    "   ranking INT,\n",
    "   PRIMARY KEY(id_music),\n",
    "   CONSTRAINT fk_artist\n",
    "      FOREIGN KEY(id_artist) \n",
    "\t  REFERENCES artist(id_artist)\n",
    "\t  ON DELETE CASCADE\n",
    ")\n",
    "        \"\"\")\n"
   ]
  },
  {
   "cell_type": "code",
   "execution_count": 30,
   "metadata": {},
   "outputs": [],
   "source": [
    "cur = conn.cursor()\n",
    "# create table one by one\n",
    "for command in commands:\n",
    "        cur.execute(command)\n",
    "# close communication with the PostgreSQL database server\n",
    "cur.close()\n",
    "# commit the changes\n",
    "conn.commit()"
   ]
  },
  {
   "cell_type": "code",
   "execution_count": null,
   "metadata": {},
   "outputs": [],
   "source": [
    "sql2 = '''COPY details(employee_id,employee_name,\\\n",
    "employee_email,employee_salary)\n",
    "FROM '/private/tmp/details.csv'\n",
    "DELIMITER ','\n",
    "CSV HEADER;'''\n",
    "  \n",
    "cursor.execute(sql2)"
   ]
  },
  {
   "cell_type": "code",
   "execution_count": 25,
   "metadata": {},
   "outputs": [],
   "source": [
    "if conn is not None:\n",
    "    conn.close()"
   ]
  },
  {
   "cell_type": "code",
   "execution_count": 4,
   "metadata": {},
   "outputs": [],
   "source": [
    "import os\n",
    "import pandas as pd"
   ]
  },
  {
   "cell_type": "code",
   "execution_count": 5,
   "metadata": {},
   "outputs": [],
   "source": [
    "files = os.listdir(\"../chart\")\n",
    "\n",
    "dfs_chart = {}\n",
    "for f in files:\n",
    "    year = int(f.split(\"_\")[0])\n",
    "    month = f.split(\"_\")[1].split(\".\")[0]\n",
    "\n",
    "    if dfs_chart.get(year) is None:\n",
    "        dfs_chart[year] = {}\n",
    "        \n",
    "    dfs_chart[year][month] = pd.read_csv(\"../chart/\" + f)"
   ]
  },
  {
   "cell_type": "code",
   "execution_count": 6,
   "metadata": {},
   "outputs": [
    {
     "data": {
      "text/html": [
       "<div>\n",
       "<style scoped>\n",
       "    .dataframe tbody tr th:only-of-type {\n",
       "        vertical-align: middle;\n",
       "    }\n",
       "\n",
       "    .dataframe tbody tr th {\n",
       "        vertical-align: top;\n",
       "    }\n",
       "\n",
       "    .dataframe thead th {\n",
       "        text-align: right;\n",
       "    }\n",
       "</style>\n",
       "<table border=\"1\" class=\"dataframe\">\n",
       "  <thead>\n",
       "    <tr style=\"text-align: right;\">\n",
       "      <th></th>\n",
       "      <th>Rank</th>\n",
       "      <th>Artist</th>\n",
       "      <th>Music</th>\n",
       "      <th>Naissance</th>\n",
       "      <th>Pays d'origine</th>\n",
       "      <th>Origine</th>\n",
       "      <th>Nationalité</th>\n",
       "      <th>Pays</th>\n",
       "    </tr>\n",
       "  </thead>\n",
       "  <tbody>\n",
       "    <tr>\n",
       "      <th>0</th>\n",
       "      <td>1</td>\n",
       "      <td>O-zone</td>\n",
       "      <td>Dragostea Din Tei</td>\n",
       "      <td></td>\n",
       "      <td>Moldavie</td>\n",
       "      <td></td>\n",
       "      <td></td>\n",
       "      <td>Moldavie</td>\n",
       "    </tr>\n",
       "    <tr>\n",
       "      <th>1</th>\n",
       "      <td>2</td>\n",
       "      <td>K'maro</td>\n",
       "      <td>Femme Like U</td>\n",
       "      <td></td>\n",
       "      <td>Canada</td>\n",
       "      <td></td>\n",
       "      <td></td>\n",
       "      <td>Canada</td>\n",
       "    </tr>\n",
       "    <tr>\n",
       "      <th>2</th>\n",
       "      <td>3</td>\n",
       "      <td>Calogero</td>\n",
       "      <td>Face À La Mer</td>\n",
       "      <td>30 juillet 1971 (51 ans)Échirolles,  France</td>\n",
       "      <td></td>\n",
       "      <td></td>\n",
       "      <td>Française</td>\n",
       "      <td></td>\n",
       "    </tr>\n",
       "    <tr>\n",
       "      <th>3</th>\n",
       "      <td>4</td>\n",
       "      <td>T-rio</td>\n",
       "      <td>Mamae Eu Quero (choopeta)</td>\n",
       "      <td></td>\n",
       "      <td></td>\n",
       "      <td></td>\n",
       "      <td></td>\n",
       "      <td></td>\n",
       "    </tr>\n",
       "    <tr>\n",
       "      <th>4</th>\n",
       "      <td>5</td>\n",
       "      <td>Le 6-9</td>\n",
       "      <td>Le Poulailler</td>\n",
       "      <td></td>\n",
       "      <td></td>\n",
       "      <td></td>\n",
       "      <td></td>\n",
       "      <td>France,  Suisse</td>\n",
       "    </tr>\n",
       "    <tr>\n",
       "      <th>...</th>\n",
       "      <td>...</td>\n",
       "      <td>...</td>\n",
       "      <td>...</td>\n",
       "      <td>...</td>\n",
       "      <td>...</td>\n",
       "      <td>...</td>\n",
       "      <td>...</td>\n",
       "      <td>...</td>\n",
       "    </tr>\n",
       "    <tr>\n",
       "      <th>95</th>\n",
       "      <td>96</td>\n",
       "      <td>Sandra Lou</td>\n",
       "      <td>Le Banana Split</td>\n",
       "      <td></td>\n",
       "      <td></td>\n",
       "      <td></td>\n",
       "      <td>Française</td>\n",
       "      <td></td>\n",
       "    </tr>\n",
       "    <tr>\n",
       "      <th>96</th>\n",
       "      <td>97</td>\n",
       "      <td>Mickey 3d</td>\n",
       "      <td>Johnny Rep</td>\n",
       "      <td></td>\n",
       "      <td>France</td>\n",
       "      <td></td>\n",
       "      <td></td>\n",
       "      <td>France</td>\n",
       "    </tr>\n",
       "    <tr>\n",
       "      <th>97</th>\n",
       "      <td>98</td>\n",
       "      <td>Jean-luc Lahaye</td>\n",
       "      <td>On N'se Reverra Plus</td>\n",
       "      <td>23 décembre 1952 (69 ans)Paris, France</td>\n",
       "      <td></td>\n",
       "      <td></td>\n",
       "      <td></td>\n",
       "      <td></td>\n",
       "    </tr>\n",
       "    <tr>\n",
       "      <th>98</th>\n",
       "      <td>99</td>\n",
       "      <td>Lmc</td>\n",
       "      <td>Take Me To The Clouds Above</td>\n",
       "      <td></td>\n",
       "      <td></td>\n",
       "      <td></td>\n",
       "      <td></td>\n",
       "      <td></td>\n",
       "    </tr>\n",
       "    <tr>\n",
       "      <th>99</th>\n",
       "      <td>100</td>\n",
       "      <td>Corneille</td>\n",
       "      <td>Parce Qu'on Vient De Loin</td>\n",
       "      <td>24 mars 1977 (45 ans)Fribourg-en-Brisgau (Alle...</td>\n",
       "      <td></td>\n",
       "      <td></td>\n",
       "      <td></td>\n",
       "      <td></td>\n",
       "    </tr>\n",
       "  </tbody>\n",
       "</table>\n",
       "<p>100 rows × 8 columns</p>\n",
       "</div>"
      ],
      "text/plain": [
       "    Rank           Artist                        Music  \\\n",
       "0      1           O-zone            Dragostea Din Tei   \n",
       "1      2           K'maro                 Femme Like U   \n",
       "2      3         Calogero                Face À La Mer   \n",
       "3      4            T-rio    Mamae Eu Quero (choopeta)   \n",
       "4      5           Le 6-9                Le Poulailler   \n",
       "..   ...              ...                          ...   \n",
       "95    96       Sandra Lou              Le Banana Split   \n",
       "96    97        Mickey 3d                   Johnny Rep   \n",
       "97    98  Jean-luc Lahaye         On N'se Reverra Plus   \n",
       "98    99              Lmc  Take Me To The Clouds Above   \n",
       "99   100        Corneille    Parce Qu'on Vient De Loin   \n",
       "\n",
       "                                            Naissance Pays d'origine Origine  \\\n",
       "0                                                           Moldavie           \n",
       "1                                                             Canada           \n",
       "2         30 juillet 1971 (51 ans)Échirolles,  France                          \n",
       "3                                                                              \n",
       "4                                                                              \n",
       "..                                                ...            ...     ...   \n",
       "95                                                                             \n",
       "96                                                            France           \n",
       "97             23 décembre 1952 (69 ans)Paris, France                          \n",
       "98                                                                             \n",
       "99  24 mars 1977 (45 ans)Fribourg-en-Brisgau (Alle...                          \n",
       "\n",
       "   Nationalité             Pays  \n",
       "0                      Moldavie  \n",
       "1                        Canada  \n",
       "2    Française                   \n",
       "3                                \n",
       "4               France,  Suisse  \n",
       "..         ...              ...  \n",
       "95   Française                   \n",
       "96                       France  \n",
       "97                               \n",
       "98                               \n",
       "99                               \n",
       "\n",
       "[100 rows x 8 columns]"
      ]
     },
     "execution_count": 6,
     "metadata": {},
     "output_type": "execute_result"
    }
   ],
   "source": [
    "dfs_chart[2004][\"Juillet\"]"
   ]
  },
  {
   "cell_type": "code",
   "execution_count": 100,
   "metadata": {},
   "outputs": [],
   "source": [
    "def test(row):\n",
    "    match = re.match('.*([1-3][0-9]{3})', row)\n",
    "    if match is not None:\n",
    "        match = re.sub('ou.*', \"\", match.group())\n",
    "    \n"
   ]
  },
  {
   "cell_type": "code",
   "execution_count": null,
   "metadata": {},
   "outputs": [],
   "source": []
  },
  {
   "cell_type": "code",
   "execution_count": 78,
   "metadata": {},
   "outputs": [
    {
     "data": {
      "text/html": [
       "<div>\n",
       "<style scoped>\n",
       "    .dataframe tbody tr th:only-of-type {\n",
       "        vertical-align: middle;\n",
       "    }\n",
       "\n",
       "    .dataframe tbody tr th {\n",
       "        vertical-align: top;\n",
       "    }\n",
       "\n",
       "    .dataframe thead th {\n",
       "        text-align: right;\n",
       "    }\n",
       "</style>\n",
       "<table border=\"1\" class=\"dataframe\">\n",
       "  <thead>\n",
       "    <tr style=\"text-align: right;\">\n",
       "      <th></th>\n",
       "      <th>Rank</th>\n",
       "      <th>Artist</th>\n",
       "      <th>Music</th>\n",
       "      <th>Naissance</th>\n",
       "      <th>Pays d'origine</th>\n",
       "      <th>Origine</th>\n",
       "      <th>Nationalité</th>\n",
       "      <th>Pays</th>\n",
       "    </tr>\n",
       "  </thead>\n",
       "  <tbody>\n",
       "    <tr>\n",
       "      <th>11</th>\n",
       "      <td>12</td>\n",
       "      <td>Aya Nakamura</td>\n",
       "      <td>40%</td>\n",
       "      <td>10 mai 1995 ou 10 mai 1995Bamako</td>\n",
       "      <td></td>\n",
       "      <td></td>\n",
       "      <td>Malienne</td>\n",
       "      <td></td>\n",
       "    </tr>\n",
       "    <tr>\n",
       "      <th>69</th>\n",
       "      <td>70</td>\n",
       "      <td>Aya Nakamura</td>\n",
       "      <td>Pookie</td>\n",
       "      <td>10 mai 1995 ou 10 mai 1995Bamako</td>\n",
       "      <td></td>\n",
       "      <td></td>\n",
       "      <td>Malienne</td>\n",
       "      <td></td>\n",
       "    </tr>\n",
       "  </tbody>\n",
       "</table>\n",
       "</div>"
      ],
      "text/plain": [
       "    Rank        Artist   Music                         Naissance  \\\n",
       "11    12  Aya Nakamura     40%  10 mai 1995 ou 10 mai 1995Bamako   \n",
       "69    70  Aya Nakamura  Pookie  10 mai 1995 ou 10 mai 1995Bamako   \n",
       "\n",
       "   Pays d'origine Origine Nationalité Pays  \n",
       "11                           Malienne       \n",
       "69                           Malienne       "
      ]
     },
     "execution_count": 78,
     "metadata": {},
     "output_type": "execute_result"
    }
   ],
   "source": [
    "\n",
    "dfs_chart[2020][\"Fevrier\"][dfs_chart[2020][\"Fevrier\"]['Naissance'].str.contains(\"10 mai 1995\")]"
   ]
  },
  {
   "cell_type": "code",
   "execution_count": 101,
   "metadata": {},
   "outputs": [
    {
     "data": {
      "text/plain": [
       "0     None\n",
       "1     None\n",
       "2     None\n",
       "3     None\n",
       "4     None\n",
       "      ... \n",
       "95    None\n",
       "96    None\n",
       "97    None\n",
       "98    None\n",
       "99    None\n",
       "Name: Naissance, Length: 100, dtype: object"
      ]
     },
     "execution_count": 101,
     "metadata": {},
     "output_type": "execute_result"
    }
   ],
   "source": [
    "dfs_chart[2020][\"Fevrier\"]['Naissance'].apply(lambda row : test(row))"
   ]
  },
  {
   "cell_type": "code",
   "execution_count": 131,
   "metadata": {},
   "outputs": [],
   "source": [
    "months = {\n",
    "    \"janvier\": \"01\",\n",
    "    \"février\": \"02\", \n",
    "    \"mars\": \"03\", \n",
    "    \"avril\": \"04\", \n",
    "    \"mai\": \"05\", \n",
    "    \"juin\": \"06\", \n",
    "    \"juillet\": \"07\", \n",
    "    \"août\": \"08\", \n",
    "    \"septembre\": \"09\", \n",
    "    \"octobre\": \"10\", \n",
    "    \"novembre\": \"11\", \n",
    "    \"décembre\": \"12\",\n",
    "    \"1er\": \"1\"}"
   ]
  },
  {
   "cell_type": "code",
   "execution_count": 8,
   "metadata": {},
   "outputs": [],
   "source": [
    "#chercher mois et faire traitement\n",
    "def insertNaissance2(row):\n",
    "    texte = re.sub(\"[\\(\\[].*?[\\)\\]]\", \"\", row['Naissance'])\n",
    "    texte = texte.split()\n",
    "    #print(texte)\n",
    "    res = \"0000-01-01\"\n",
    "    if len(texte)>2 and texte[0].isnumeric() and texte[2].isnumeric():\n",
    "        res = str(texte[2])+\"-\"+str(months[texte[1]])+\"-\"+str(texte[0])\n",
    "    return res"
   ]
  },
  {
   "cell_type": "code",
   "execution_count": 81,
   "metadata": {},
   "outputs": [],
   "source": [
    "def pays(row):\n",
    "    if row[\"Pays\"] != \" \":\n",
    "        return row[\"Pays\"]\n",
    "    elif row[\"Nationalité\"] != \" \":\n",
    "        return row[\"Nationalité\"]\n",
    "    elif row[\"Origine\"] != \" \":\n",
    "        return row[\"Origine\"]\n",
    "    elif row[\"Pays d'origine\"] != \" \":\n",
    "        return row[\"Pays d'origine\"]\n",
    "    else:\n",
    "        texte = re.sub(\"[\\(\\[].*?[\\)\\]]\", \"\", row['Naissance'])\n",
    "        texte = texte.split()\n",
    "        if len(texte)>3:\n",
    "            return texte[-1]\n",
    "        else:\n",
    "            return \"\""
   ]
  },
  {
   "cell_type": "markdown",
   "metadata": {},
   "source": [
    "## Recherche Naissance"
   ]
  },
  {
   "cell_type": "markdown",
   "metadata": {},
   "source": []
  },
  {
   "cell_type": "code",
   "execution_count": 132,
   "metadata": {},
   "outputs": [],
   "source": [
    "def insertNaissance(row):\n",
    "    match = re.match('.*([1-2][0-9]{3})', row['Naissance'])\n",
    "    if match is not None:\n",
    "        match = re.sub('ou.*', \"\", match.group())\n",
    "        match = \" \".join(months.get(ele, ele) for ele in match.split())\n",
    " \n",
    "    return match"
   ]
  },
  {
   "cell_type": "code",
   "execution_count": 133,
   "metadata": {},
   "outputs": [],
   "source": [
    "\n",
    "for years in dfs_chart:\n",
    "     for table in dfs_chart[years].values():\n",
    "          to_insert = table.drop(['Rank', 'Music'], axis=1)\n",
    "          to_insert['Naissance_to_insert'] = to_insert.apply(lambda row : insertNaissance(row), axis=1)\n",
    "          #to_insert['Pays'] = to_insert['Pays'].astype(\"string\")\n",
    "          #to_insert['Pays_to_insert'] = to_insert.apply(lambda row : pays(row), axis=1)\n",
    "          #print(to_insert['Pays_to_insert'].unique())"
   ]
  },
  {
   "cell_type": "code",
   "execution_count": 134,
   "metadata": {},
   "outputs": [
    {
     "data": {
      "text/html": [
       "<div>\n",
       "<style scoped>\n",
       "    .dataframe tbody tr th:only-of-type {\n",
       "        vertical-align: middle;\n",
       "    }\n",
       "\n",
       "    .dataframe tbody tr th {\n",
       "        vertical-align: top;\n",
       "    }\n",
       "\n",
       "    .dataframe thead th {\n",
       "        text-align: right;\n",
       "    }\n",
       "</style>\n",
       "<table border=\"1\" class=\"dataframe\">\n",
       "  <thead>\n",
       "    <tr style=\"text-align: right;\">\n",
       "      <th></th>\n",
       "      <th>Artist</th>\n",
       "      <th>Naissance</th>\n",
       "      <th>Pays d'origine</th>\n",
       "      <th>Origine</th>\n",
       "      <th>Nationalité</th>\n",
       "      <th>Pays</th>\n",
       "      <th>Naissance_to_insert</th>\n",
       "    </tr>\n",
       "  </thead>\n",
       "  <tbody>\n",
       "    <tr>\n",
       "      <th>0</th>\n",
       "      <td>Gazo</td>\n",
       "      <td>5 août 1994 (28 ans)Châteauroux</td>\n",
       "      <td></td>\n",
       "      <td></td>\n",
       "      <td>Française</td>\n",
       "      <td></td>\n",
       "      <td>5 08 1994</td>\n",
       "    </tr>\n",
       "    <tr>\n",
       "      <th>1</th>\n",
       "      <td>Lomepal</td>\n",
       "      <td>22 novembre 1988 (34 ans)Barcelone, Catalogne(...</td>\n",
       "      <td></td>\n",
       "      <td></td>\n",
       "      <td></td>\n",
       "      <td></td>\n",
       "      <td>22 11 1988</td>\n",
       "    </tr>\n",
       "    <tr>\n",
       "      <th>2</th>\n",
       "      <td>Lomepal</td>\n",
       "      <td>22 novembre 1988 (34 ans)Barcelone, Catalogne(...</td>\n",
       "      <td></td>\n",
       "      <td></td>\n",
       "      <td></td>\n",
       "      <td></td>\n",
       "      <td>22 11 1988</td>\n",
       "    </tr>\n",
       "    <tr>\n",
       "      <th>3</th>\n",
       "      <td>Soolking</td>\n",
       "      <td>10 décembre 1989 (32 ans)Staouali (d)</td>\n",
       "      <td></td>\n",
       "      <td></td>\n",
       "      <td>Algérienne</td>\n",
       "      <td></td>\n",
       "      <td>10 12 1989</td>\n",
       "    </tr>\n",
       "    <tr>\n",
       "      <th>4</th>\n",
       "      <td>Rema</td>\n",
       "      <td>1er mai 2000 (22 ans)Benin City, État d’Edo,  ...</td>\n",
       "      <td></td>\n",
       "      <td></td>\n",
       "      <td></td>\n",
       "      <td></td>\n",
       "      <td>1 05 2000</td>\n",
       "    </tr>\n",
       "    <tr>\n",
       "      <th>...</th>\n",
       "      <td>...</td>\n",
       "      <td>...</td>\n",
       "      <td>...</td>\n",
       "      <td>...</td>\n",
       "      <td>...</td>\n",
       "      <td>...</td>\n",
       "      <td>...</td>\n",
       "    </tr>\n",
       "    <tr>\n",
       "      <th>95</th>\n",
       "      <td>Sdm</td>\n",
       "      <td>28 novembre 1995 (26 ans)Meudon,  France</td>\n",
       "      <td></td>\n",
       "      <td></td>\n",
       "      <td></td>\n",
       "      <td></td>\n",
       "      <td>28 11 1995</td>\n",
       "    </tr>\n",
       "    <tr>\n",
       "      <th>96</th>\n",
       "      <td>Lizzo</td>\n",
       "      <td>27 avril 1988 (34 ans)Détroit, Michigan,  État...</td>\n",
       "      <td></td>\n",
       "      <td></td>\n",
       "      <td></td>\n",
       "      <td></td>\n",
       "      <td>27 04 1988</td>\n",
       "    </tr>\n",
       "    <tr>\n",
       "      <th>97</th>\n",
       "      <td>Djadja et Dinaz</td>\n",
       "      <td></td>\n",
       "      <td>France</td>\n",
       "      <td></td>\n",
       "      <td></td>\n",
       "      <td>France</td>\n",
       "      <td>None</td>\n",
       "    </tr>\n",
       "    <tr>\n",
       "      <th>98</th>\n",
       "      <td>Ckay</td>\n",
       "      <td>27 novembre 1997[réf. nécessaire]</td>\n",
       "      <td></td>\n",
       "      <td></td>\n",
       "      <td></td>\n",
       "      <td></td>\n",
       "      <td>27 11 1997</td>\n",
       "    </tr>\n",
       "    <tr>\n",
       "      <th>99</th>\n",
       "      <td>Blasterjaxx</td>\n",
       "      <td></td>\n",
       "      <td>Pays-Bas</td>\n",
       "      <td></td>\n",
       "      <td></td>\n",
       "      <td>Pays-Bas</td>\n",
       "      <td>None</td>\n",
       "    </tr>\n",
       "  </tbody>\n",
       "</table>\n",
       "<p>100 rows × 7 columns</p>\n",
       "</div>"
      ],
      "text/plain": [
       "             Artist                                          Naissance  \\\n",
       "0              Gazo                    5 août 1994 (28 ans)Châteauroux   \n",
       "1           Lomepal  22 novembre 1988 (34 ans)Barcelone, Catalogne(...   \n",
       "2           Lomepal  22 novembre 1988 (34 ans)Barcelone, Catalogne(...   \n",
       "3          Soolking              10 décembre 1989 (32 ans)Staouali (d)   \n",
       "4              Rema  1er mai 2000 (22 ans)Benin City, État d’Edo,  ...   \n",
       "..              ...                                                ...   \n",
       "95              Sdm           28 novembre 1995 (26 ans)Meudon,  France   \n",
       "96            Lizzo  27 avril 1988 (34 ans)Détroit, Michigan,  État...   \n",
       "97  Djadja et Dinaz                                                      \n",
       "98             Ckay                  27 novembre 1997[réf. nécessaire]   \n",
       "99      Blasterjaxx                                                      \n",
       "\n",
       "   Pays d'origine Origine Nationalité      Pays Naissance_to_insert  \n",
       "0                           Française                     5 08 1994  \n",
       "1                                                        22 11 1988  \n",
       "2                                                        22 11 1988  \n",
       "3                          Algérienne                    10 12 1989  \n",
       "4                                                         1 05 2000  \n",
       "..            ...     ...         ...       ...                 ...  \n",
       "95                                                       28 11 1995  \n",
       "96                                                       27 04 1988  \n",
       "97         France                        France                None  \n",
       "98                                                       27 11 1997  \n",
       "99       Pays-Bas                      Pays-Bas                None  \n",
       "\n",
       "[100 rows x 7 columns]"
      ]
     },
     "execution_count": 134,
     "metadata": {},
     "output_type": "execute_result"
    }
   ],
   "source": [
    "to_insert"
   ]
  },
  {
   "cell_type": "code",
   "execution_count": 13,
   "metadata": {},
   "outputs": [
    {
     "data": {
      "text/plain": [
       "array(['Française', 'Catalogne', 'Algérienne', 'Nigeria', 'Belgique',\n",
       "       'France', 'Londres', '12e', 'Brésilienne', 'Espagne',\n",
       "       'Britannique', 'États-Unis', '', 'Cubaine  Américaine', 'Lange',\n",
       "       'britannique', 'Bouches-du-Rhône', 'thaïlandaise', 'Toronto',\n",
       "       'CongolaiseFrançaise', 'Italie', 'français', 'Canada', 'York',\n",
       "       'Texas', 'Britannique  Norvègien', 'Tetney', 'Belge',\n",
       "       'Lancashire,Angleterre', 'Américaine', 'Pays-Bas'], dtype=object)"
      ]
     },
     "execution_count": 13,
     "metadata": {},
     "output_type": "execute_result"
    }
   ],
   "source": [
    "to_insert['Pays_to_insert'].unique()"
   ]
  },
  {
   "cell_type": "code",
   "execution_count": null,
   "metadata": {},
   "outputs": [],
   "source": [
    "sql = \"INSERT INTO artist(nameArtist, birth, city, country) VALUES(%s)\"\n",
    "\n",
    "cur.execute(sql, (\"\",))"
   ]
  },
  {
   "cell_type": "code",
   "execution_count": 137,
   "metadata": {},
   "outputs": [
    {
     "name": "stdout",
     "output_type": "stream",
     "text": [
      "Collecting lyricsgenius\n",
      "  Using cached https://files.pythonhosted.org/packages/0d/32/be32f6922f70fd1b9900b50b228f6585cd60a96bdf03589df738f627d388/lyricsgenius-3.0.1-py3-none-any.whl\n",
      "Requirement already satisfied: requests>=2.20.0 in c:\\users\\cytech student\\appdata\\roaming\\python\\python38\\site-packages (from lyricsgenius) (2.28.1)\n",
      "Requirement already satisfied: beautifulsoup4>=4.6.0 in c:\\users\\cytech student\\appdata\\roaming\\python\\python38\\site-packages (from lyricsgenius) (4.11.1)\n",
      "Requirement already satisfied: urllib3<1.27,>=1.21.1 in c:\\users\\cytech student\\appdata\\roaming\\python\\python38\\site-packages (from requests>=2.20.0->lyricsgenius) (1.26.13)\n",
      "Requirement already satisfied: certifi>=2017.4.17 in c:\\users\\cytech student\\appdata\\roaming\\python\\python38\\site-packages (from requests>=2.20.0->lyricsgenius) (2022.9.24)\n",
      "Requirement already satisfied: idna<4,>=2.5 in c:\\users\\cytech student\\appdata\\roaming\\python\\python38\\site-packages (from requests>=2.20.0->lyricsgenius) (3.4)\n",
      "Requirement already satisfied: charset-normalizer<3,>=2 in c:\\users\\cytech student\\appdata\\roaming\\python\\python38\\site-packages (from requests>=2.20.0->lyricsgenius) (2.1.1)\n",
      "Requirement already satisfied: soupsieve>1.2 in c:\\users\\cytech student\\appdata\\roaming\\python\\python38\\site-packages (from beautifulsoup4>=4.6.0->lyricsgenius) (2.3.2.post1)\n",
      "Installing collected packages: lyricsgenius\n",
      "Successfully installed lyricsgenius-3.0.1\n",
      "Note: you may need to restart the kernel to use updated packages.\n"
     ]
    },
    {
     "name": "stderr",
     "output_type": "stream",
     "text": [
      "  WARNING: The script lyricsgenius.exe is installed in 'C:\\Users\\CYTech Student\\AppData\\Roaming\\Python\\Python38\\Scripts' which is not on PATH.\n",
      "  Consider adding this directory to PATH or, if you prefer to suppress this warning, use --no-warn-script-location.\n",
      "WARNING: You are using pip version 19.2.3, however version 22.3.1 is available.\n",
      "You should consider upgrading via the 'python -m pip install --upgrade pip' command.\n"
     ]
    }
   ],
   "source": [
    "pip install lyricsgenius --user\n"
   ]
  },
  {
   "cell_type": "code",
   "execution_count": 138,
   "metadata": {},
   "outputs": [
    {
     "ename": "NameError",
     "evalue": "name 'token' is not defined",
     "output_type": "error",
     "traceback": [
      "\u001b[1;31m---------------------------------------------------------------------------\u001b[0m",
      "\u001b[1;31mNameError\u001b[0m                                 Traceback (most recent call last)",
      "Cell \u001b[1;32mIn [138], line 3\u001b[0m\n\u001b[0;32m      1\u001b[0m \u001b[39mfrom\u001b[39;00m \u001b[39mlyricsgenius\u001b[39;00m \u001b[39mimport\u001b[39;00m Genius\n\u001b[1;32m----> 3\u001b[0m genius \u001b[39m=\u001b[39m Genius(token)\n",
      "\u001b[1;31mNameError\u001b[0m: name 'token' is not defined"
     ]
    }
   ],
   "source": [
    "from lyricsgenius import Genius\n",
    "\n",
    "genius = Genius(token)"
   ]
  },
  {
   "cell_type": "code",
   "execution_count": null,
   "metadata": {},
   "outputs": [],
   "source": []
  }
 ],
 "metadata": {
  "kernelspec": {
   "display_name": "Python 3.8.3 64-bit",
   "language": "python",
   "name": "python3"
  },
  "language_info": {
   "codemirror_mode": {
    "name": "ipython",
    "version": 3
   },
   "file_extension": ".py",
   "mimetype": "text/x-python",
   "name": "python",
   "nbconvert_exporter": "python",
   "pygments_lexer": "ipython3",
   "version": "3.8.3"
  },
  "orig_nbformat": 4,
  "vscode": {
   "interpreter": {
    "hash": "570feb405e2e27c949193ac68f46852414290d515b0ba6e5d90d076ed2284471"
   }
  }
 },
 "nbformat": 4,
 "nbformat_minor": 2
}
