{
 "cells": [
  {
   "cell_type": "code",
   "execution_count": 84,
   "metadata": {},
   "outputs": [],
   "source": [
    "from os import listdir\n",
    "\n",
    "import pandas as pd\n",
    "import numpy as np\n",
    "import matplotlib.pyplot as plt\n",
    "\n",
    "import re\n",
    "from nltk.metrics.distance import edit_distance"
   ]
  },
  {
   "cell_type": "code",
   "execution_count": 85,
   "metadata": {},
   "outputs": [],
   "source": [
    "MISSING = \" \""
   ]
  },
  {
   "cell_type": "markdown",
   "metadata": {},
   "source": [
    "# Etape 1 - Scrapping chart"
   ]
  },
  {
   "cell_type": "code",
   "execution_count": null,
   "metadata": {},
   "outputs": [],
   "source": [
    "#Load\n",
    "charts = pd.read_csv(\"../etapes/1 - scrapping chart/charts.csv\", encoding=\"utf-8-sig\")"
   ]
  },
  {
   "cell_type": "markdown",
   "metadata": {},
   "source": [
    "# Etape 2 - Cleanning chart"
   ]
  },
  {
   "cell_type": "code",
   "execution_count": null,
   "metadata": {},
   "outputs": [],
   "source": [
    "#Load\n",
    "charts = pd.read_csv(\"../etapes/2 - cleanning chart/charts.csv\", encoding=\"utf-8-sig\")"
   ]
  },
  {
   "cell_type": "markdown",
   "metadata": {},
   "source": [
    "# Etape 3 : Scrapping artist data"
   ]
  },
  {
   "cell_type": "code",
   "execution_count": null,
   "metadata": {},
   "outputs": [],
   "source": [
    "#Load\n",
    "artist = pd.read_csv(\"../etapes/3 - scrapping artist data/artist.csv\", encoding=\"utf-8-sig\")"
   ]
  },
  {
   "cell_type": "code",
   "execution_count": null,
   "metadata": {},
   "outputs": [],
   "source": [
    "artist.value_counts(\"Artist_wiki\").sort_values() #Aucune page en wiki en double, ce qui est un bon signe !"
   ]
  },
  {
   "cell_type": "code",
   "execution_count": null,
   "metadata": {},
   "outputs": [],
   "source": [
    "np.round(artist[artist[\"Artist_wiki\"] == MISSING].shape[0] / artist.shape[0], 2) # 24% des artistes n'ont pas de page en wiki"
   ]
  },
  {
   "cell_type": "code",
   "execution_count": null,
   "metadata": {},
   "outputs": [],
   "source": [
    "chart_c = charts.copy().merge(artist, left_on=\"Artist\", right_on=\"Artist\", how=\"left\")"
   ]
  },
  {
   "cell_type": "code",
   "execution_count": null,
   "metadata": {},
   "outputs": [],
   "source": [
    "#Affiche le nb de fois qu'un artiste, sur qui nous n'avons pas donnée, est dans le top 50\n",
    "chart_c[chart_c[\"Artist_wiki\"] == MISSING].groupby(\"Artist\")[\"Music\"].count().sort_values(ascending=False)"
   ]
  },
  {
   "cell_type": "code",
   "execution_count": null,
   "metadata": {},
   "outputs": [],
   "source": [
    "#On recalcul les distances entre les noms d'artistes et les pages wikipédia pour vérifier\n",
    "def calc_dist(artist, wiki):\n",
    "    words = [\"(chanteur)\", \"(chanteuse)\", \"(groupe)\", \"(rappeur)\", \"(rappeuse)\", \"(musicien)\", \"(chanteur français)\", \"(france)\", \"(producteur)\", \"(artiste)\", \"(groupe de musique)\"]\n",
    "\n",
    "    if any(w in wiki.lower() for w in words):\n",
    "        dist = edit_distance(artist.lower().strip(), wiki.lower().split(\" (\")[0].strip())\n",
    "        if dist/len(artist) < 0.4:\n",
    "            return dist\n",
    "    \n",
    "    return edit_distance(artist.lower().strip(), wiki.lower().strip())\n",
    "\n",
    "artist[\"distance\"] = artist.apply(lambda x: calc_dist(x.name, x[\"Artist_wiki\"]), axis=1)\n",
    "artist[\"distance_norm\"] = artist.apply(lambda x : x[\"distance\"]/len(x.name), axis=1)"
   ]
  },
  {
   "cell_type": "code",
   "execution_count": null,
   "metadata": {},
   "outputs": [],
   "source": [
    "artist[artist[\"Artist_wiki\"] != MISSING].sort_values(\"distance_norm\", ascending=False).head() #Nos distances sont bonnes"
   ]
  },
  {
   "cell_type": "markdown",
   "metadata": {},
   "source": [
    "# Etape 4 : Cleanning wikipedia results"
   ]
  },
  {
   "cell_type": "markdown",
   "metadata": {},
   "source": [
    "## Nationalité/Pays"
   ]
  },
  {
   "cell_type": "code",
   "execution_count": null,
   "metadata": {},
   "outputs": [],
   "source": [
    "#Load\n",
    "artist = pd.read_csv(\"../etapes/4 - cleanning wikipedia results/nationalité_pays/artist.csv\", encoding=\"utf-8-sig\")"
   ]
  },
  {
   "cell_type": "code",
   "execution_count": null,
   "metadata": {},
   "outputs": [],
   "source": [
    "artist = artist[artist[\"Artist_wiki\"] != MISSING] #On ne garde que les artistes qui ont une page en wiki"
   ]
  },
  {
   "cell_type": "code",
   "execution_count": null,
   "metadata": {},
   "outputs": [],
   "source": [
    "#Ajout de la colonne \"No data\" pour voir ceux sur qui on n'a pas de données\n",
    "artist[\"No data\"] = (\n",
    "    (artist[\"Naissance\"] == MISSING) &\n",
    "    (artist[\"Pays d'origine\"] == MISSING) &\n",
    "    (artist[\"Origine\"] == MISSING) &\n",
    "    (artist[\"Nationalité\"] == MISSING) &\n",
    "    (artist[\"Pays\"] == MISSING) &\n",
    "    (artist[\"Summary\"] == MISSING)\n",
    ")"
   ]
  },
  {
   "cell_type": "code",
   "execution_count": null,
   "metadata": {},
   "outputs": [],
   "source": [
    "chart_c = charts.copy().merge(artist, left_on=\"Artist\", right_on=\"Artist\", how=\"right\")"
   ]
  },
  {
   "cell_type": "code",
   "execution_count": null,
   "metadata": {},
   "outputs": [],
   "source": [
    "chart_c[chart_c[\"No data\"]].groupby(\"Artist\")[\"Music\"].count().sort_values(ascending=False)[:20]"
   ]
  },
  {
   "cell_type": "code",
   "execution_count": null,
   "metadata": {},
   "outputs": [],
   "source": [
    "ancien_data = []\n",
    "for col in [\"Pays\", \"Origine\", \"Nationalité\", \"Pays d'origine\"]:\n",
    "    ancien_data.append(artist[col].value_counts().drop(index=[MISSING]))"
   ]
  },
  {
   "cell_type": "code",
   "execution_count": null,
   "metadata": {},
   "outputs": [],
   "source": [
    "artist = artist[~artist[\"No data\"]] #On ne garde que les artistes pour lesquels on a des données"
   ]
  },
  {
   "cell_type": "code",
   "execution_count": null,
   "metadata": {},
   "outputs": [],
   "source": [
    "def get_nationality(row, words):\n",
    "    for r in words:\n",
    "        regex = r\"([\\d)()\\] ]|^)\"+ r.lower() + r\"([.,\\[) ]|$)\"\n",
    "\n",
    "        if not re.search(regex, row[\"Summary\"].lower()) is None:\n",
    "            return r.lower()\n",
    "    return MISSING"
   ]
  },
  {
   "cell_type": "code",
   "execution_count": null,
   "metadata": {},
   "outputs": [],
   "source": [
    "#On utilise le summary pour récupérer la nationalité\n",
    "avant = artist[artist[\"Nationalité\"] == MISSING].shape[0]\n",
    "\n",
    "artist.loc[artist[\"Nationalité\"] == MISSING, \"Nationalité\"] = artist[artist[\"Nationalité\"] == MISSING].apply(lambda x: get_nationality(x, artist[\"Nationalité\"].unique()), axis=1)\n",
    "\n",
    "apres = artist[artist[\"Nationalité\"] == MISSING].shape[0]\n",
    "\n",
    "print(avant - apres) #On a récupéré 56 nationalités"
   ]
  },
  {
   "cell_type": "code",
   "execution_count": null,
   "metadata": {},
   "outputs": [],
   "source": [
    "def get_pays(row, words):\n",
    "    for r in words:\n",
    "        regex = r\"([\\d)()\\], ]|^)\"+ r.lower() + r\"([.,\\[) ]|$)\"\n",
    "\n",
    "        if not re.search(regex, row[\"Naissance\"].lower()) is None:\n",
    "            return r.lower()\n",
    "    return MISSING"
   ]
  },
  {
   "cell_type": "code",
   "execution_count": null,
   "metadata": {},
   "outputs": [],
   "source": [
    "# On récupére une liste de pays\n",
    "gentille_df = pd.read_csv(\"../monde/gentille.csv\")\n",
    "pays = gentille_df[\"pays\"].tolist()"
   ]
  },
  {
   "cell_type": "code",
   "execution_count": null,
   "metadata": {},
   "outputs": [],
   "source": [
    "#On utilise le summary pour récupérer la Pays\n",
    "avant = artist[artist[\"Pays\"] == MISSING].shape[0]\n",
    "\n",
    "artist.loc[artist[\"Pays\"] == MISSING, \"Pays\"] = artist[artist[\"Pays\"] == MISSING].apply(lambda x: get_pays(x, pays), axis=1)\n",
    "\n",
    "apres = artist[artist[\"Pays\"] == MISSING].shape[0]\n",
    "\n",
    "print(avant - apres) #On a récupéré 520 Pays"
   ]
  },
  {
   "cell_type": "code",
   "execution_count": null,
   "metadata": {},
   "outputs": [],
   "source": [
    "avant = artist[artist[\"Nationalité\"] == MISSING].shape[0]"
   ]
  },
  {
   "cell_type": "code",
   "execution_count": null,
   "metadata": {},
   "outputs": [],
   "source": [
    "#On récupère la nationalité à partir du pays\n",
    "gentille = pd.DataFrame.to_dict(gentille_df.set_index(\"pays\"), orient=\"dict\").get(\"gentille\")\n",
    "\n",
    "for k, v in gentille.items():\n",
    "    artist.loc[(artist[\"Nationalité\"] == MISSING) & (artist[\"Pays\"] == k), \"Nationalité\"] = v\n",
    "    artist.loc[(artist[\"Nationalité\"] == MISSING) & (artist[\"Pays d'origine\"] == k), \"Nationalité\"] = v"
   ]
  },
  {
   "cell_type": "code",
   "execution_count": null,
   "metadata": {},
   "outputs": [],
   "source": [
    "# Les origines sont transposées avec sur la nationalité\n",
    "artist.loc[(artist[\"Nationalité\"] == MISSING) & (artist[\"Origine\"] != MISSING), \"Nationalité\"] = artist.loc[(artist[\"Nationalité\"] == MISSING) & (artist[\"Origine\"] != MISSING), \"Origine\"]"
   ]
  },
  {
   "cell_type": "code",
   "execution_count": null,
   "metadata": {},
   "outputs": [],
   "source": [
    "apres = artist[artist[\"Nationalité\"] == MISSING].shape[0]\n",
    "print(avant - apres) #On a récupéré 486 nationalités"
   ]
  },
  {
   "cell_type": "code",
   "execution_count": null,
   "metadata": {},
   "outputs": [],
   "source": [
    "data_to_plot = []\n",
    "for data, col in zip(ancien_data, [\"Pays\", \"Origine\", \"Nationalité\", \"Pays d'origine\"]):\n",
    "    data_to_plot.append(data)\n",
    "    data_to_plot.append(artist[col].value_counts().drop(index=[MISSING]))"
   ]
  },
  {
   "cell_type": "code",
   "execution_count": null,
   "metadata": {},
   "outputs": [],
   "source": [
    "titles = [\"Ancien\", \"Nouveau\"]\n",
    "k = 0\n",
    "fig, ax = plt.subplots(4, 2, figsize=(25, 70))\n",
    "for axi, data in zip(ax.flatten(), data_to_plot):\n",
    "    data.plot.barh(ax=axi)\n",
    "    axi.set(xlabel=\"Nombre d'artistes\")\n",
    "    axi.set_title(titles[k%2], size=20)\n",
    "    k += 1\n",
    "\n",
    "titles = [\"Pays\", \"Origine\", \"Nationalité\", \"Pays d'origine\"]\n",
    "for axi, title in zip(ax[:,0], titles):\n",
    "    axi.set_ylabel(title, size=25)"
   ]
  },
  {
   "cell_type": "code",
   "execution_count": null,
   "metadata": {},
   "outputs": [],
   "source": [
    "artist[(artist[\"Nationalité\"] == MISSING) & (artist[\"Naissance\"] != MISSING)].to_csv(\"../artist_missing.csv\", encoding=\"utf-8-sig\")"
   ]
  },
  {
   "cell_type": "code",
   "execution_count": null,
   "metadata": {},
   "outputs": [],
   "source": [
    "chart_c = chart.copy().merge(artist, left_on=\"Artist\", right_on=\"Artist\", how=\"left\")"
   ]
  },
  {
   "cell_type": "code",
   "execution_count": null,
   "metadata": {},
   "outputs": [
    {
     "data": {
      "text/plain": [
       "Artist\n",
       "tayc              20\n",
       "soso maness       15\n",
       "eddy de pretto     6\n",
       "inna               6\n",
       "lily allen         6\n",
       "                  ..\n",
       "havana brown       1\n",
       "gusttavo lima      1\n",
       "grand galop        1\n",
       "gomez              1\n",
       "kiss               1\n",
       "Name: Music, Length: 172, dtype: int64"
      ]
     },
     "metadata": {},
     "output_type": "display_data"
    }
   ],
   "source": [
    "chart_c[chart_c[\"Nationalité\"] == MISSING].groupby(\"Artist\")[\"Music\"].count().sort_values(ascending=False)"
   ]
  },
  {
   "cell_type": "markdown",
   "metadata": {},
   "source": [
    "## Departement/Region/Commune"
   ]
  },
  {
   "cell_type": "code",
   "execution_count": null,
   "metadata": {},
   "outputs": [],
   "source": [
    "#Load\n",
    "artist = pd.read_csv(\"../etapes/4 - cleanning wikipedia results/departement_region/artist.csv\", encoding=\"utf-8-sig\")"
   ]
  },
  {
   "cell_type": "code",
   "execution_count": null,
   "metadata": {},
   "outputs": [],
   "source": [
    "region = pd.read_csv(\"../france/departements-france.csv\")\n",
    "departement = pd.read_csv(\"../france/departements-france.csv\")\n",
    "commune = pd.read_csv(\"../france/communes-departement-region.csv\")\n",
    "nb_habitant = pd.read_csv(\"../france/nb_habitant.csv\")"
   ]
  },
  {
   "cell_type": "code",
   "execution_count": null,
   "metadata": {},
   "outputs": [],
   "source": [
    "#On supprime les colonnes inutiles\n",
    "commune = commune.drop(columns = [\"code_commune_INSEE\", \"nom_commune_postal\", \"code_postal\", \"libelle_acheminement\", \"ligne_5\", \"latitude\", \"longitude\", \"code_commune\", \"article\", \"code_departement\", \"code_region\", \"nom_commune\"])\n",
    "\n",
    "#On rename la colonne nom_commune_complet en nom_commune\n",
    "commune = commune.rename(columns={\"nom_commune_complet\": \"nom_commune\"})\n",
    "\n",
    "#On enleve les arrondisement des villes\n",
    "commune.loc[commune[\"nom_commune\"].str.contains(r\"[A-Za-z]* [0-9]{2}\"), \"nom_commune\"] = commune.loc[commune[\"nom_commune\"].str.contains(r\"[A-Za-z]* [0-9]{2}\"), \"nom_commune\"].str[:-3]\n",
    "\n",
    "#On ajoute le nombre d'habitant au commune\n",
    "commune = commune.merge(nb_habitant[[\"Ville\", \"nb_habitant\"]], left_on=\"nom_commune\", right_on=\"Ville\", how=\"inner\").drop(columns=[\"Ville\"]).dropna().drop_duplicates()\n",
    "\n",
    "#On transforme le nb d'habitant en int\n",
    "commune[\"nb_habitant\"] = commune[\"nb_habitant\"].str.replace(\" \", \"\")\n",
    "commune[\"nb_habitant\"] = commune[\"nb_habitant\"].astype(\"int\")\n",
    "\n",
    "#On transforme tout en lower\n",
    "for col in commune.select_dtypes(\"object\").columns:\n",
    "    commune[col] = commune[col].str.lower()"
   ]
  },
  {
   "cell_type": "code",
   "execution_count": null,
   "metadata": {},
   "outputs": [],
   "source": [
    "def get_localisation(row, localisation):\n",
    "    for r in localisation:\n",
    "        regex = r\"([\\d)()\\] ]|^)\"+ r.lower() + r\"([.,\\[) ]|$)\"\n",
    "\n",
    "        if (not re.search(regex, row[\"Summary\"].lower()) is None) or (not re.search(regex, row[\"Naissance\"].lower()) is None):\n",
    "            return r.lower()\n",
    "    return MISSING"
   ]
  },
  {
   "cell_type": "code",
   "execution_count": null,
   "metadata": {},
   "outputs": [],
   "source": [
    "artist[\"Region\"] = artist.apply(lambda x: get_localisation(x, commune[\"nom_region\"]), axis=1)"
   ]
  },
  {
   "cell_type": "code",
   "execution_count": null,
   "metadata": {},
   "outputs": [],
   "source": [
    "artist[\"Commune\"] = artist.apply(lambda x: get_localisation(x, commune[commune[\"nb_habitant\"] > 2000][\"nom_commune\"]), axis=1)"
   ]
  },
  {
   "cell_type": "code",
   "execution_count": null,
   "metadata": {},
   "outputs": [],
   "source": [
    "artist[\"Departement\"] = artist.apply(lambda x: get_localisation(x, commune[\"nom_departement\"]), axis=1)"
   ]
  },
  {
   "cell_type": "code",
   "execution_count": null,
   "metadata": {},
   "outputs": [
    {
     "name": "stdout",
     "output_type": "stream",
     "text": [
      "--------------------------------------------------\n",
      "Region\n",
      "--------------------------------------------------\n",
      "guadeloupe                    7\n",
      "guyane                        5\n",
      "bretagne                      3\n",
      "provence-alpes-côte d'azur    3\n",
      "martinique                    3\n",
      "normandie                     2\n",
      "hauts-de-france               2\n",
      "la réunion                    1\n",
      "corse                         1\n",
      "pays de la loire              1\n",
      "île-de-france                 1\n",
      "Name: Region, dtype: int64\n",
      "Total :  29\n",
      "--------------------------------------------------\n",
      "Commune\n",
      "--------------------------------------------------\n",
      "paris          80\n",
      "marseille      21\n",
      "nice           11\n",
      "lyon            8\n",
      "saint-denis     7\n",
      "               ..\n",
      "courbevoie      1\n",
      "pontoise        1\n",
      "lens            1\n",
      "colomiers       1\n",
      "yerres          1\n",
      "Name: Commune, Length: 210, dtype: int64\n",
      "Total :  439\n",
      "--------------------------------------------------\n",
      "Departement\n",
      "--------------------------------------------------\n",
      "paris                85\n",
      "nord                 21\n",
      "bouches-du-rhône     18\n",
      "seine-saint-denis    17\n",
      "hauts-de-seine       15\n",
      "                     ..\n",
      "meuse                 1\n",
      "vaucluse              1\n",
      "ain                   1\n",
      "côtes-d'armor         1\n",
      "gard                  1\n",
      "Name: Departement, Length: 62, dtype: int64\n",
      "Total :  315\n"
     ]
    }
   ],
   "source": [
    "for col in [\"Region\", \"Commune\", \"Departement\"]:\n",
    "    print(\"-\"*50)\n",
    "    print(col)\n",
    "    print(\"-\"*50)\n",
    "    print(artist[col].value_counts().drop(index=[MISSING]))\n",
    "    print(\"Total : \", artist[col].value_counts()[1:].sum())"
   ]
  },
  {
   "cell_type": "code",
   "execution_count": null,
   "metadata": {},
   "outputs": [],
   "source": [
    "artist[\"No localisation\"] = (\n",
    "    (artist[\"Region\"] == MISSING) &\n",
    "    (artist[\"Commune\"] == MISSING) &\n",
    "    (artist[\"Departement\"] == MISSING)\n",
    ")"
   ]
  },
  {
   "cell_type": "code",
   "execution_count": null,
   "metadata": {},
   "outputs": [],
   "source": [
    "# Les artistes pour qui ont a trouvé une commune/departement/region on leur donne la nationalité française\n",
    "artist.loc[(artist[\"Nationalité\"] == MISSING) & (~artist[\"No localisation\"]), \"Nationalité\"] = \"français\""
   ]
  },
  {
   "cell_type": "code",
   "execution_count": null,
   "metadata": {},
   "outputs": [],
   "source": [
    "def commune_to_departement(x : str):\n",
    "    value = commune.loc[commune[\"nom_commune\"] == x, \"nom_departement\"].values\n",
    "    if len(value) > 0:\n",
    "        return value[0]\n",
    "    else:\n",
    "        return MISSING"
   ]
  },
  {
   "cell_type": "code",
   "execution_count": null,
   "metadata": {},
   "outputs": [],
   "source": [
    "#On ajoute les departements pour les communes\n",
    "artist.loc[(artist[\"Commune\"] != MISSING) & (artist[\"Departement\"] == MISSING), \"Departement\"] = artist.loc[(artist[\"Commune\"] != MISSING) & (artist[\"Departement\"] == MISSING), \"Commune\"].apply(commune_to_departement)"
   ]
  },
  {
   "cell_type": "code",
   "execution_count": null,
   "metadata": {},
   "outputs": [],
   "source": [
    "def departement_to_region(x : str):\n",
    "    value = commune.loc[commune[\"nom_departement\"] == x, \"nom_region\"].values\n",
    "    if len(value) > 0:\n",
    "        return value[0]\n",
    "    else:\n",
    "        return MISSING"
   ]
  },
  {
   "cell_type": "code",
   "execution_count": null,
   "metadata": {},
   "outputs": [],
   "source": [
    "#On ajoute les regions pour les departements\n",
    "artist.loc[(artist[\"Departement\"] != MISSING) & (artist[\"Region\"] == MISSING), \"Region\"] = artist.loc[(artist[\"Departement\"] != MISSING) & (artist[\"Region\"] == MISSING), \"Departement\"].apply(departement_to_region)"
   ]
  },
  {
   "cell_type": "code",
   "execution_count": null,
   "metadata": {},
   "outputs": [],
   "source": [
    "artist[\"No localisation\"] = (\n",
    "    (artist[\"Region\"] == MISSING) &\n",
    "    (artist[\"Commune\"] == MISSING) &\n",
    "    (artist[\"Departement\"] == MISSING)\n",
    ")"
   ]
  },
  {
   "cell_type": "code",
   "execution_count": null,
   "metadata": {},
   "outputs": [],
   "source": [
    "artist[artist[\"No localisation\"]].to_csv(\"../artist_no_localisation.csv\", encoding=\"utf-8-sig\")"
   ]
  },
  {
   "cell_type": "code",
   "execution_count": null,
   "metadata": {},
   "outputs": [
    {
     "data": {
      "text/plain": [
       "Nationalité\n",
       "                151\n",
       "français        148\n",
       "américains      137\n",
       "néerlandais     134\n",
       "britanniques    125\n",
       "               ... \n",
       "bosniaques        1\n",
       "biélorusses       1\n",
       "guinéens          1\n",
       "panaméens         1\n",
       "ivoiriens         1\n",
       "Length: 81, dtype: int64"
      ]
     },
     "metadata": {},
     "output_type": "display_data"
    }
   ],
   "source": [
    "artist[artist[\"No localisation\"]].value_counts(\"Nationalité\")"
   ]
  }
 ],
 "metadata": {
  "kernelspec": {
   "display_name": "Python 3.10.4 64-bit",
   "language": "python",
   "name": "python3"
  },
  "language_info": {
   "codemirror_mode": {
    "name": "ipython",
    "version": 3
   },
   "file_extension": ".py",
   "mimetype": "text/x-python",
   "name": "python",
   "nbconvert_exporter": "python",
   "pygments_lexer": "ipython3",
   "version": "3.10.4"
  },
  "orig_nbformat": 4,
  "vscode": {
   "interpreter": {
    "hash": "2823d83d0138f4e88bebb1ac6893599dadbc35aa0bdabe1fb606adea8faab8b6"
   }
  }
 },
 "nbformat": 4,
 "nbformat_minor": 2
}
